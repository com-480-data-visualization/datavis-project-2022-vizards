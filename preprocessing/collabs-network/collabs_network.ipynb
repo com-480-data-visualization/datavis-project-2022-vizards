{
 "cells": [
  {
   "cell_type": "code",
   "execution_count": null,
   "metadata": {},
   "outputs": [],
   "source": [
    "# Imports \n",
    "import pandas as pd\n",
    "import itertools \n",
    "import networkx as nx\n",
    "# import matplotlib.pyplot as plt\n",
    "# import pytrends\n",
    "# import musicbrainzngs as m\n",
    "import numpy as np\n",
    "import requests\n",
    "import sys\n",
    "\n",
    "# from pytrends.request import TrendReq\n",
    "from os import path\n",
    "from PIL import Image\n",
    "# from wordcloud import WordCloud, STOPWORDS, ImageColorGenerator"
   ]
  },
  {
   "cell_type": "code",
   "execution_count": null,
   "metadata": {},
   "outputs": [],
   "source": [
    "def get_access_token(client_id, client_secret):\n",
    "    \"\"\"\n",
    "    Get the access token from Spotify\n",
    "    \"\"\"\n",
    "    body_params = {'grant_type': \"client_credentials\"}\n",
    "    url = 'https://accounts.spotify.com/api/token'\n",
    "\n",
    "    response = requests.post(url, data=body_params, auth=(client_id, client_secret))\n",
    "    if response.status_code == 200:\n",
    "        return response.json()['access_token']\n",
    "    else:\n",
    "        sys.exit(\"Failed to get access token. Is your client_id and client_secret correct?\")"
   ]
  },
  {
   "cell_type": "code",
   "execution_count": null,
   "metadata": {},
   "outputs": [],
   "source": [
    "access_ = get_access_token(\"\",\"\")"
   ]
  },
  {
   "cell_type": "code",
   "execution_count": null,
   "metadata": {},
   "outputs": [],
   "source": [
    "access = \"Bearer \" + access_"
   ]
  },
  {
   "cell_type": "code",
   "execution_count": null,
   "metadata": {
    "scrolled": false
   },
   "outputs": [],
   "source": [
    "subgenres_popularity = dict({e:0 for e in [i for i in list(aggregate_genres.values()) for i in i]})"
   ]
  },
  {
   "cell_type": "code",
   "execution_count": null,
   "metadata": {},
   "outputs": [],
   "source": [
    "for index, row in df.loc[pd.notna(df['subgenres'])].iterrows():\n",
    "    for subg in row['subgenres']:\n",
    "        try : \n",
    "            subgenres_popularity[subg] += 1/row['rank']\n",
    "        except KeyError:\n",
    "            continue\n",
    "        \n",
    "    \n",
    "    # print(index, row['rank'], row['subgenres'])"
   ]
  },
  {
   "cell_type": "code",
   "execution_count": null,
   "metadata": {
    "scrolled": true
   },
   "outputs": [],
   "source": [
    "# subgenres_popularity = {key:value for (key,value) in subgenres_popularity.items() if value>0}"
   ]
  },
  {
   "cell_type": "code",
   "execution_count": null,
   "metadata": {},
   "outputs": [],
   "source": [
    "separate_artists(artist_genres_df)"
   ]
  },
  {
   "cell_type": "code",
   "execution_count": null,
   "metadata": {},
   "outputs": [],
   "source": [
    "def find_artist_genres(artist_name):\n",
    "    headers = {\n",
    "        'Accept': 'application/json',\n",
    "        'Content-Type': 'application/json',\n",
    "        'Authorization': access}\n",
    "    params = {\n",
    "        'q': artist_name,\n",
    "        'type': 'artist',\n",
    "        'limit': '1',\n",
    "    }\n",
    "\n",
    "    response = requests.get('https://api.spotify.com/v1/search', params=params, headers=headers)\n",
    "    \n",
    "    return response.json()['artists']['items'][0]['genres']"
   ]
  },
  {
   "cell_type": "code",
   "execution_count": null,
   "metadata": {},
   "outputs": [],
   "source": [
    "find_artist_genres(\"Lady Gaga\")"
   ]
  },
  {
   "cell_type": "code",
   "execution_count": null,
   "metadata": {},
   "outputs": [],
   "source": [
    "import ciso8601\n",
    "import time\n",
    "import re\n",
    "def separate_artists(df):\n",
    "    split_string = ' and |, | AND | & | featuring | FEATURING | x | X | feat | ft |,| with | feauring | feat. | / '\n",
    "    ret_list = []\n",
    "    res_check = set()\n",
    "    for index, colab in df.iterrows():\n",
    "        date = ciso8601.parse_datetime(colab['date'])\n",
    "        res = [time.mktime(date.timetuple())]\n",
    "        artists = re.split(split_string, colab['artist'], flags=re.IGNORECASE)\n",
    "        if tuple(artists) not in res_check:\n",
    "            res_check.add(tuple(artists))\n",
    "            res.append(artists)\n",
    "            ret_list.append(res)\n",
    "    return ret_list"
   ]
  },
  {
   "cell_type": "code",
   "execution_count": null,
   "metadata": {},
   "outputs": [],
   "source": [
    "df['song']"
   ]
  },
  {
   "cell_type": "code",
   "execution_count": null,
   "metadata": {},
   "outputs": [],
   "source": [
    "df = pd.read_csv(\"../data/billboard.csv\", index_col = 0)\n",
    "df = df[df.date >= \"2000-01-01\"]\n",
    "\n",
    "separated_artists = separate_artists(df)\n",
    "collabs = [y for [x,y] in separated_artists if len(y)>1]"
   ]
  },
  {
   "cell_type": "code",
   "execution_count": null,
   "metadata": {},
   "outputs": [],
   "source": [
    "df = pd.read_csv(\"../docs/src/chartview/data/data.csv\")"
   ]
  },
  {
   "cell_type": "code",
   "execution_count": null,
   "metadata": {},
   "outputs": [],
   "source": [
    "def find_uri(artist, track):\n",
    "    headers = {\n",
    "        'Accept': 'application/json',\n",
    "        'Content-Type': 'application/json',\n",
    "        'Authorization': access,}\n",
    "\n",
    "    params = {\n",
    "         # 'q': '\"' + track + '\" \"' + artist + '\"',\n",
    "         'q': \"track: \" + track + \" artist:\" + artist,\n",
    "        'type': 'track',\n",
    "        'limit': '1',\n",
    "        'market': 'US'\n",
    "    }\n",
    "\n",
    "    response = requests.get('https://api.spotify.com/v1/search', params=params, headers=headers)\n",
    "    return response.json()['tracks']['items'][0]['uri'].split(\":\")[-1]"
   ]
  },
  {
   "cell_type": "code",
   "execution_count": null,
   "metadata": {
    "scrolled": true
   },
   "outputs": [],
   "source": [
    "df"
   ]
  },
  {
   "cell_type": "code",
   "execution_count": null,
   "metadata": {},
   "outputs": [],
   "source": []
  },
  {
   "cell_type": "code",
   "execution_count": null,
   "metadata": {
    "scrolled": true
   },
   "outputs": [],
   "source": [
    "for i, row in df.iterrows():\n",
    "    if row['_uri'] == \"Unknown\":\n",
    "        try: \n",
    "            uri = find_uri(row[\"_song\"], row[\"_artist\"] )\n",
    "            df.at[i, '_uri'] = uri\n",
    "        except IndexError:\n",
    "            print(row[\"_song\"], row[\"_artist\"])"
   ]
  },
  {
   "cell_type": "code",
   "execution_count": null,
   "metadata": {},
   "outputs": [],
   "source": [
    "df.to_csv(\"../docs/src/chartview/data/data.csv\", index = False)"
   ]
  },
  {
   "cell_type": "code",
   "execution_count": null,
   "metadata": {},
   "outputs": [],
   "source": []
  },
  {
   "cell_type": "code",
   "execution_count": null,
   "metadata": {},
   "outputs": [],
   "source": [
    "\"spotify:track:5dXWFMwD7I7zXsInONVl0H\".split(\":\")[-1]"
   ]
  },
  {
   "cell_type": "code",
   "execution_count": null,
   "metadata": {},
   "outputs": [],
   "source": [
    "for i in collabs:\n",
    "    try :\n",
    "        i.remove('R. Kelly')\n",
    "    except ValueError:\n",
    "        pass"
   ]
  },
  {
   "cell_type": "code",
   "execution_count": null,
   "metadata": {},
   "outputs": [],
   "source": [
    "unique_artists = list(np.unique([artist for l in collabs for artist in l]))"
   ]
  },
  {
   "cell_type": "code",
   "execution_count": null,
   "metadata": {},
   "outputs": [],
   "source": [
    "unique_artists;\n",
    "artists_by_id = dict({a:b for a,b in zip(unique_artists,list(range(0,len(unique_artists))))})\n",
    "artists_by_id = {key:[value,0.0] for (key,value) in artists_by_id.items()}\n",
    "artists_by_id.pop(\"R. Kelly\")"
   ]
  },
  {
   "cell_type": "code",
   "execution_count": null,
   "metadata": {},
   "outputs": [],
   "source": [
    "for l in collabs:\n",
    "    for artist in l:\n",
    "        artists_by_id[artist][1] +=1"
   ]
  },
  {
   "cell_type": "code",
   "execution_count": null,
   "metadata": {
    "scrolled": false
   },
   "outputs": [],
   "source": [
    "top100=sorted(artists_by_id.items(), key=lambda x: x[1][1], reverse=True)[:100];\n",
    "top100=dict(top100);\n",
    "top100"
   ]
  },
  {
   "cell_type": "code",
   "execution_count": null,
   "metadata": {},
   "outputs": [],
   "source": [
    "find_artist_genres('Shakira')"
   ]
  },
  {
   "cell_type": "code",
   "execution_count": null,
   "metadata": {},
   "outputs": [],
   "source": [
    "def determine_genre(subgenres) :\n",
    "    count_genres = dict(zip(aggregate_genres.keys(), np.zeros(len(aggregate_genres.keys()))))\n",
    "    find_one = False\n",
    "    for subgenre in subgenres :\n",
    "        for genre, subgrs in aggregate_genres.items():\n",
    "            if subgenre in subgrs:\n",
    "                find_one = True\n",
    "                count_genres[genre] +=1\n",
    "    if (find_one):\n",
    "        return sorted(count_genres.items(), key=lambda x: x[1])[-1][0]\n",
    "    else :\n",
    "        return np.NaN"
   ]
  },
  {
   "cell_type": "code",
   "execution_count": null,
   "metadata": {},
   "outputs": [],
   "source": [
    "# Source : https://github.com/kevinschaich/billboard but completed with genres suggested by Spotify API\n",
    "aggregate_genres = {\n",
    "    \"rock\": [\"symphonic rock\", \"jazz-rock\", \"heartland rock\", \"rap rock\", \"garage rock\", \n",
    "           \"folk-rock\", \"roots rock\", \"adult alternative pop rock\", \"rock roll\", \"punk rock\", \n",
    "           \"arena rock\", \"pop-rock\", \"glam rock\", \"southern rock\", \"indie rock\", \"funk rock\", \n",
    "           \"country rock\", \"piano rock\", \"art rock\", \"rockabilly\", \"acoustic rock\", \"progressive rock\", \n",
    "           \"folk rock\", \"psychedelic rock\", \"rock & roll\", \"blues rock\", \"alternative rock\", \n",
    "           \"rock and roll\", \"soft rock\", \"rock and indie\", \"hard rock\", \"pop/rock\", \"pop rock\", \n",
    "           \"rock\", \"classic pop and rock\", \"psychedelic\", \"british psychedelia\", \"punk\", \"metal\", \"heavy metal\", \n",
    "             \"brutal death metal\", 'deep talent show'],\n",
    "\"alternative/indie\": [\"adult alternative pop rock\", \"alternative rock\", \"alternative metal\", \n",
    "                       \"alternative\", \"lo-fi indie\", \"indie\", \"indie folk\", \"indietronica\", \n",
    "                       \"indie pop\", \"indie rock\", \"rock and indie\"],\n",
    "\"electronic/dance\": ['big room', 'edm', \"dance and electronica\", \"pop dance\", \"electro house\", \"electronic\", \"electropop\", \n",
    "                      \"progressive house\", \"hip house\", \"house\", \"eurodance\", \"dancehall\", \"dance\", \"funk carioca\"],\n",
    "\"soul\": [\"psychedelic soul\", \"deep soul\", \"neo-soul\", \"neo soul\", \"southern soul\", \n",
    "          \"smooth soul\", \"blue-eyed soul\", \"soul and reggae\", \"soul\", \"funk\"],\n",
    "\"classical/soundtrack\": [\"classical\", \"orchestral\", \"film soundtrack\", \"composer\"],\n",
    "\"pop\": [\"country-pop\",\"urban contemporary\", \"latin pop\", \"classical pop\", \"pop-metal\", \"orchestral pop\", \n",
    "         \"instrumental pop\", \"indie pop\", \"sophisti-pop\", \"pop punk\", \"pop reggae\", \"noah cyrus\"\n",
    "         \"britpop\", \"traditional pop\", \"power pop\", \"sunshine pop\", \"baroque pop\", \"alternative r&b\",\n",
    "         \"synthpop\", \"art pop\", \"teen pop\", \"psychedelic pop\", \"folk pop\", \"country pop\", \"pop soul\",\n",
    "         \"pop and chart\", \"dance-pop\", \"pop\", \"top 40\", \"american idol\", 'breakeven', 'm2m', 'dance pop'],\n",
    "\"hip-hop/rap\": [\"conscious hip hop\", \"east coast hip hop\", \"hardcore hip hop\", 'oakland hip hop', 'pop rap'\n",
    "                 \"west coast hip hop\", \"hiphop\", \"southern hip hop\", \"hip-hop\", \n",
    "                 \"hip hop\", \"hip hop rnb and dance hall\", \"contemporary r b\", \n",
    "                 \"gangsta rap\", 'gangster rap', \"rapper\", \"rap\", \"mumble rapper\", 'chicago rap', 'melodic rap', 'brooklyn drill', 'drill',\n",
    "               'baton rouge rap', 'trap', 'southern hip hop', 'miami hip hop', 'dirty south rap'],\n",
    "\"rnb\": [\"rnb\", \"rhythm & blues\",\"r&b\", \"blues\", \"contemporary rnb\", \n",
    "                 \"contemporary r&b\", \"rhythm and blues\"],\n",
    "\"disco\": [\"disco\"],\n",
    "\"swing\":  [\"swing\"],\n",
    "\"folk\": [\"contemporary folk\", \"folk\", \"bachata\", \"romanian\"],\n",
    "\"country\": [\"country rock\", \"country-pop\", \"country pop\", \"contemporary country\", \"country\"],\n",
    "\"jazz\": [\"vocal jazz\", \"jazz\", \"jazz-rock\"],\n",
    "\"religious\": [\"christian\", \"christmas music\", \"gospel\"],\n",
    "\"blues\": [\"delta blues\", \"rock blues\", \"urban blues\", \"electric blues\",\n",
    "           \"acoustic blues\", \"soul blues\", \"country blues\", \"jump blues\", \n",
    "           \"classic rock\", \"blues rock\", \"jazz and blues\", \"piano blues\", \n",
    "           \"british blues\", \"british rhythm & blues\", \"rhythm and blues\", \"blues\", \"blues rock\", \"rhythm & blues\"],\n",
    "\"reggae\": [\"reggae\", \"reggae fusion\", \"roots reggae\", \"reggaeton\", \"pop reggae\", \"soul and reggae\"]}"
   ]
  },
  {
   "cell_type": "code",
   "execution_count": null,
   "metadata": {},
   "outputs": [],
   "source": [
    "for key, elem in top100.items():\n",
    "    elem.append(determine_genre(find_artist_genres(key)))"
   ]
  },
  {
   "cell_type": "code",
   "execution_count": null,
   "metadata": {},
   "outputs": [],
   "source": [
    "find_artist_genres(\"David Guetta\")"
   ]
  },
  {
   "cell_type": "code",
   "execution_count": null,
   "metadata": {},
   "outputs": [],
   "source": [
    "top100"
   ]
  },
  {
   "cell_type": "code",
   "execution_count": null,
   "metadata": {},
   "outputs": [],
   "source": [
    "selected_genres = []\n",
    "\n",
    "for k,v in top100.items():\n",
    "    if ((v[2] not in selected_genres)):\n",
    "        selected_genres.append(v[2])"
   ]
  },
  {
   "cell_type": "code",
   "execution_count": null,
   "metadata": {},
   "outputs": [],
   "source": [
    "selected_genres"
   ]
  },
  {
   "cell_type": "code",
   "execution_count": null,
   "metadata": {},
   "outputs": [],
   "source": [
    "top100['David Guetta'] = [410, 21.0, 'electronic/dance']"
   ]
  },
  {
   "cell_type": "code",
   "execution_count": null,
   "metadata": {
    "scrolled": true
   },
   "outputs": [],
   "source": [
    "top100"
   ]
  },
  {
   "cell_type": "code",
   "execution_count": null,
   "metadata": {
    "scrolled": true
   },
   "outputs": [],
   "source": [
    "find_artist_genres(\"Usher\")"
   ]
  },
  {
   "cell_type": "code",
   "execution_count": null,
   "metadata": {},
   "outputs": [],
   "source": [
    "selected_genres = []\n",
    "\n",
    "for k,v in top100.items():\n",
    "    if ((v[2] not in selected_genres)):\n",
    "        selected_genres.append(v[2])\n",
    "        \n",
    "selected_genres"
   ]
  },
  {
   "cell_type": "code",
   "execution_count": null,
   "metadata": {},
   "outputs": [],
   "source": [
    "import os \n",
    "\n",
    "f = open(\"nodes.json\", \"w\")\n",
    "\n",
    "f.write(\"[\")\n",
    "\n",
    "color = \"\"\n",
    "for artist, elems in top100.items():\n",
    "    genre = elems[2]\n",
    "\n",
    "    if genre == 'hip-hop/rap':\n",
    "         color = \"#001219\"\n",
    "    elif genre == 'pop':\n",
    "        color = \"#005f73\"\n",
    "    elif genre == 'rnb':\n",
    "        color = \"#e9d8a6\"        \n",
    "    elif genre == 'reggae':\n",
    "        color = \"#ee9b00\"\n",
    "    elif genre == 'electronic/dance':\n",
    "        color = \"#bb3e03\"\n",
    "    elif genre == 'rock':\n",
    "        color = \"#9b2226\"\n",
    "    \n",
    "    f.write('{\"id\": ' + str(elems[0]) )\n",
    "    f.write(', \"label\": \"' + artist  )\n",
    "    f.write('\", \"group\": \"' + elems[2] + '\", \"color\": \"' + color +'\"},\\n')\n",
    "\n",
    "f.seek(f.tell() - 1, os.SEEK_SET)\n",
    "f.write('')\n",
    "f.seek(f.tell() - 1, os.SEEK_SET)\n",
    "f.write('')\n",
    "f.seek(f.tell() - 1, os.SEEK_SET)\n",
    "f.write('')\n",
    "\n",
    "f.write(\"]\")\n",
    "f.close()"
   ]
  },
  {
   "cell_type": "code",
   "execution_count": null,
   "metadata": {},
   "outputs": [],
   "source": [
    "f = open(\"edges.json\", \"w\")\n",
    "\n",
    "f.write(\"[\")\n",
    "\n",
    "for pair in list(itertools.combinations(list(top100.keys()), 2)):\n",
    "    for collab in collabs:\n",
    "        if pair[0] in collab and pair[1] in collab:\n",
    "                f.write('{\"from\": ' + str(artists_by_id[pair[0]][0]) +', \"to\": ' + str(artists_by_id[pair[1]][0]) + '},\\n')\n",
    "                break\n",
    "        \n",
    "f.seek(f.tell() - 1, os.SEEK_SET)\n",
    "f.write('')\n",
    "f.seek(f.tell() - 1, os.SEEK_SET)\n",
    "f.write('')\n",
    "f.seek(f.tell() - 1, os.SEEK_SET)\n",
    "f.write('')\n",
    "\n",
    "f.write(\"]\")\n",
    "f.close()"
   ]
  },
  {
   "cell_type": "code",
   "execution_count": null,
   "metadata": {},
   "outputs": [],
   "source": [
    "most_collab_artists = [a for (a,b) in artists_by_id.items()]"
   ]
  },
  {
   "cell_type": "code",
   "execution_count": null,
   "metadata": {},
   "outputs": [],
   "source": [
    "most_collab_artists"
   ]
  },
  {
   "cell_type": "code",
   "execution_count": null,
   "metadata": {},
   "outputs": [],
   "source": [
    "list(itertools.combinations(collabs[6], 2))[0][0]"
   ]
  },
  {
   "cell_type": "code",
   "execution_count": null,
   "metadata": {
    "scrolled": false
   },
   "outputs": [],
   "source": [
    "artists_by_id['J. Cole']"
   ]
  },
  {
   "cell_type": "code",
   "execution_count": null,
   "metadata": {},
   "outputs": [],
   "source": [
    "f = open(\"nodes.txt\", \"w\")\n",
    "\n",
    "f.write(\"var nodes = new vis.DataSet([\\n\")\n",
    "\n",
    "for artist, i in top100.items():\n",
    "    f.write(\"\\t{id: \"+str(i[0])+\", label: '\"+artist+\"'},\\n\") \n",
    "        \n",
    "f.write(\"]);\")\n",
    "f.close()"
   ]
  },
  {
   "cell_type": "code",
   "execution_count": null,
   "metadata": {},
   "outputs": [],
   "source": [
    "'Lil Wayne' in ['Lil Wayne', 'asdsd'] and 'Li' in ['Lil Wayne', 'asdsd']"
   ]
  },
  {
   "cell_type": "code",
   "execution_count": null,
   "metadata": {
    "scrolled": false
   },
   "outputs": [],
   "source": [
    " for pair in list(itertools.combinations(list(top100.keys()), 2)):\n",
    "        print(pair)"
   ]
  },
  {
   "cell_type": "code",
   "execution_count": null,
   "metadata": {},
   "outputs": [],
   "source": [
    "artists_by_id['Lil Wayne'][0]"
   ]
  },
  {
   "cell_type": "code",
   "execution_count": null,
   "metadata": {},
   "outputs": [],
   "source": [
    "f = open(\"edges.txt\", \"w\")\n",
    "\n",
    "\n",
    "f.write(\"var edges = new vis.DataSet([\\n\")\n",
    "\n",
    "for pair in list(itertools.combinations(list(top100.keys()), 2)):\n",
    "    for collab in collabs:\n",
    "        if pair[0] in collab and pair[1] in collab:\n",
    "                f.write(\"\\t{from: \"+str(artists_by_id[pair[0]][0])+', to: '+str(artists_by_id[pair[1]][0])+\"},\\n\")\n",
    "                break\n",
    "        \n",
    "f.write(\"]);\")\n",
    "f.close()"
   ]
  },
  {
   "cell_type": "code",
   "execution_count": null,
   "metadata": {},
   "outputs": [],
   "source": []
  }
 ],
 "metadata": {
  "kernelspec": {
   "display_name": "Python 3",
   "language": "python",
   "name": "python3"
  },
  "language_info": {
   "codemirror_mode": {
    "name": "ipython",
    "version": 3
   },
   "file_extension": ".py",
   "mimetype": "text/x-python",
   "name": "python",
   "nbconvert_exporter": "python",
   "pygments_lexer": "ipython3",
   "version": "3.8.3"
  }
 },
 "nbformat": 4,
 "nbformat_minor": 4
}
