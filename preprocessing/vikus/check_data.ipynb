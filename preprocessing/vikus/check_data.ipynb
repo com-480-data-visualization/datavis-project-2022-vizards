{
 "cells": [
  {
   "cell_type": "code",
   "execution_count": 58,
   "metadata": {},
   "outputs": [],
   "source": [
    "import numpy as np\n",
    "import pandas as pd"
   ]
  },
  {
   "cell_type": "markdown",
   "metadata": {},
   "source": [
    "Load Full dataset of billboard songs, with all features in."
   ]
  },
  {
   "cell_type": "code",
   "execution_count": 65,
   "metadata": {},
   "outputs": [
    {
     "data": {
      "text/html": [
       "<div>\n",
       "<style scoped>\n",
       "    .dataframe tbody tr th:only-of-type {\n",
       "        vertical-align: middle;\n",
       "    }\n",
       "\n",
       "    .dataframe tbody tr th {\n",
       "        vertical-align: top;\n",
       "    }\n",
       "\n",
       "    .dataframe thead th {\n",
       "        text-align: right;\n",
       "    }\n",
       "</style>\n",
       "<table border=\"1\" class=\"dataframe\">\n",
       "  <thead>\n",
       "    <tr style=\"text-align: right;\">\n",
       "      <th></th>\n",
       "      <th>date</th>\n",
       "      <th>song</th>\n",
       "      <th>artist</th>\n",
       "      <th>peak-rank</th>\n",
       "      <th>weeks-on-board</th>\n",
       "      <th>genres</th>\n",
       "      <th>track</th>\n",
       "      <th>uri</th>\n",
       "      <th>danceability</th>\n",
       "      <th>energy</th>\n",
       "      <th>...</th>\n",
       "      <th>acousticness</th>\n",
       "      <th>instrumentalness</th>\n",
       "      <th>liveness</th>\n",
       "      <th>valence</th>\n",
       "      <th>tempo</th>\n",
       "      <th>duration_ms</th>\n",
       "      <th>time_signature</th>\n",
       "      <th>chorus_hit</th>\n",
       "      <th>sections</th>\n",
       "      <th>target</th>\n",
       "    </tr>\n",
       "  </thead>\n",
       "  <tbody>\n",
       "    <tr>\n",
       "      <th>0</th>\n",
       "      <td>2000-01-01</td>\n",
       "      <td>A Country Boy Can Survive (Y2K Version)</td>\n",
       "      <td>Chad Brock With Hank Williams Jr. &amp; George Jones</td>\n",
       "      <td>75</td>\n",
       "      <td>3</td>\n",
       "      <td>['american', 'country', 'country music royalty...</td>\n",
       "      <td>A Country Boy Can Survive (Y2K Version)</td>\n",
       "      <td>spotify:track:5pinOKTQyPCPpgjIOKVFY3</td>\n",
       "      <td>0.669</td>\n",
       "      <td>0.592</td>\n",
       "      <td>...</td>\n",
       "      <td>0.166</td>\n",
       "      <td>0.0</td>\n",
       "      <td>0.114</td>\n",
       "      <td>0.51</td>\n",
       "      <td>75.938</td>\n",
       "      <td>237667.0</td>\n",
       "      <td>4.0</td>\n",
       "      <td>23.61273</td>\n",
       "      <td>11.0</td>\n",
       "      <td>1.0</td>\n",
       "    </tr>\n",
       "    <tr>\n",
       "      <th>1</th>\n",
       "      <td>2000-01-01</td>\n",
       "      <td>I Wanna Know</td>\n",
       "      <td>Joe</td>\n",
       "      <td>4</td>\n",
       "      <td>44</td>\n",
       "      <td>['american', 'bebop', 'death by liver cancer',...</td>\n",
       "      <td>I Wanna Know</td>\n",
       "      <td>spotify:track:1m2xMsxbtxv21Brome189p</td>\n",
       "      <td>0.725</td>\n",
       "      <td>0.487</td>\n",
       "      <td>...</td>\n",
       "      <td>0.26</td>\n",
       "      <td>1.09e-05</td>\n",
       "      <td>0.431</td>\n",
       "      <td>0.599</td>\n",
       "      <td>136.086</td>\n",
       "      <td>296693.0</td>\n",
       "      <td>4.0</td>\n",
       "      <td>30.12501</td>\n",
       "      <td>12.0</td>\n",
       "      <td>1.0</td>\n",
       "    </tr>\n",
       "    <tr>\n",
       "      <th>2</th>\n",
       "      <td>2000-01-01</td>\n",
       "      <td>The Quittin' Kind</td>\n",
       "      <td>Joe Diffie</td>\n",
       "      <td>90</td>\n",
       "      <td>6</td>\n",
       "      <td>['country', 'death by covid-19']</td>\n",
       "      <td>The Quittin' Kind</td>\n",
       "      <td>spotify:track:4u6U5nwYHok67BBymI9ldh</td>\n",
       "      <td>0.595</td>\n",
       "      <td>0.904</td>\n",
       "      <td>...</td>\n",
       "      <td>0.03</td>\n",
       "      <td>4.43e-05</td>\n",
       "      <td>0.397</td>\n",
       "      <td>0.6</td>\n",
       "      <td>102.002</td>\n",
       "      <td>207467.0</td>\n",
       "      <td>4.0</td>\n",
       "      <td>39.45951</td>\n",
       "      <td>9.0</td>\n",
       "      <td>1.0</td>\n",
       "    </tr>\n",
       "    <tr>\n",
       "      <th>3</th>\n",
       "      <td>2000-01-01</td>\n",
       "      <td>Show Me The Meaning Of Being Lonely</td>\n",
       "      <td>Backstreet Boys</td>\n",
       "      <td>6</td>\n",
       "      <td>24</td>\n",
       "      <td>['american', 'boy band', 'boy group', 'dance-p...</td>\n",
       "      <td>Show Me The Meaning Of Being Lonely</td>\n",
       "      <td>spotify:track:3BsaRV5QIulYz2lV9WWa8T</td>\n",
       "      <td>0.63</td>\n",
       "      <td>0.625</td>\n",
       "      <td>...</td>\n",
       "      <td>0.231</td>\n",
       "      <td>0.0</td>\n",
       "      <td>0.0765</td>\n",
       "      <td>0.683</td>\n",
       "      <td>167.998</td>\n",
       "      <td>234960.0</td>\n",
       "      <td>4.0</td>\n",
       "      <td>28.3789</td>\n",
       "      <td>13.0</td>\n",
       "      <td>1.0</td>\n",
       "    </tr>\n",
       "    <tr>\n",
       "      <th>4</th>\n",
       "      <td>2000-01-01</td>\n",
       "      <td>This Gift</td>\n",
       "      <td>98 Degrees</td>\n",
       "      <td>49</td>\n",
       "      <td>3</td>\n",
       "      <td>['adult contemporary', 'american', 'boy band',...</td>\n",
       "      <td>Unknown</td>\n",
       "      <td>Unknown</td>\n",
       "      <td>Unknown</td>\n",
       "      <td>Unknown</td>\n",
       "      <td>...</td>\n",
       "      <td>Unknown</td>\n",
       "      <td>Unknown</td>\n",
       "      <td>Unknown</td>\n",
       "      <td>Unknown</td>\n",
       "      <td>Unknown</td>\n",
       "      <td>Unknown</td>\n",
       "      <td>Unknown</td>\n",
       "      <td>Unknown</td>\n",
       "      <td>Unknown</td>\n",
       "      <td>Unknown</td>\n",
       "    </tr>\n",
       "  </tbody>\n",
       "</table>\n",
       "<p>5 rows × 24 columns</p>\n",
       "</div>"
      ],
      "text/plain": [
       "         date                                     song  \\\n",
       "0  2000-01-01  A Country Boy Can Survive (Y2K Version)   \n",
       "1  2000-01-01                             I Wanna Know   \n",
       "2  2000-01-01                        The Quittin' Kind   \n",
       "3  2000-01-01      Show Me The Meaning Of Being Lonely   \n",
       "4  2000-01-01                                This Gift   \n",
       "\n",
       "                                             artist  peak-rank  \\\n",
       "0  Chad Brock With Hank Williams Jr. & George Jones         75   \n",
       "1                                               Joe          4   \n",
       "2                                        Joe Diffie         90   \n",
       "3                                   Backstreet Boys          6   \n",
       "4                                        98 Degrees         49   \n",
       "\n",
       "   weeks-on-board                                             genres  \\\n",
       "0               3  ['american', 'country', 'country music royalty...   \n",
       "1              44  ['american', 'bebop', 'death by liver cancer',...   \n",
       "2               6                   ['country', 'death by covid-19']   \n",
       "3              24  ['american', 'boy band', 'boy group', 'dance-p...   \n",
       "4               3  ['adult contemporary', 'american', 'boy band',...   \n",
       "\n",
       "                                     track  \\\n",
       "0  A Country Boy Can Survive (Y2K Version)   \n",
       "1                             I Wanna Know   \n",
       "2                        The Quittin' Kind   \n",
       "3      Show Me The Meaning Of Being Lonely   \n",
       "4                                  Unknown   \n",
       "\n",
       "                                    uri danceability   energy  ...  \\\n",
       "0  spotify:track:5pinOKTQyPCPpgjIOKVFY3        0.669    0.592  ...   \n",
       "1  spotify:track:1m2xMsxbtxv21Brome189p        0.725    0.487  ...   \n",
       "2  spotify:track:4u6U5nwYHok67BBymI9ldh        0.595    0.904  ...   \n",
       "3  spotify:track:3BsaRV5QIulYz2lV9WWa8T         0.63    0.625  ...   \n",
       "4                               Unknown      Unknown  Unknown  ...   \n",
       "\n",
       "  acousticness instrumentalness liveness  valence    tempo duration_ms  \\\n",
       "0        0.166              0.0    0.114     0.51   75.938    237667.0   \n",
       "1         0.26         1.09e-05    0.431    0.599  136.086    296693.0   \n",
       "2         0.03         4.43e-05    0.397      0.6  102.002    207467.0   \n",
       "3        0.231              0.0   0.0765    0.683  167.998    234960.0   \n",
       "4      Unknown          Unknown  Unknown  Unknown  Unknown     Unknown   \n",
       "\n",
       "  time_signature chorus_hit sections   target  \n",
       "0            4.0   23.61273     11.0      1.0  \n",
       "1            4.0   30.12501     12.0      1.0  \n",
       "2            4.0   39.45951      9.0      1.0  \n",
       "3            4.0    28.3789     13.0      1.0  \n",
       "4        Unknown    Unknown  Unknown  Unknown  \n",
       "\n",
       "[5 rows x 24 columns]"
      ]
     },
     "execution_count": 65,
     "metadata": {},
     "output_type": "execute_result"
    }
   ],
   "source": [
    "df_ours = pd.read_csv(\"full_dataset.csv\", index_col= 0)\n",
    "df_ours.head()"
   ]
  },
  {
   "cell_type": "code",
   "execution_count": 67,
   "metadata": {},
   "outputs": [],
   "source": [
    "df_ours['year'] = df_ours.date.apply(lambda x: int(x[:4]))"
   ]
  },
  {
   "cell_type": "markdown",
   "metadata": {},
   "source": [
    "ID naming: get a unique and meaningful ID for each entry by adding song name and artist name"
   ]
  },
  {
   "cell_type": "code",
   "execution_count": 69,
   "metadata": {},
   "outputs": [],
   "source": [
    "df_ours['id'] = df_ours['song'] + \" by \" + df_ours['artist']"
   ]
  },
  {
   "cell_type": "code",
   "execution_count": 70,
   "metadata": {},
   "outputs": [],
   "source": [
    "df_ours['id'] = df_ours['id'].apply(lambda x: x.replace(\" \", \"_\").replace(\"/\",\"_\"))"
   ]
  },
  {
   "cell_type": "code",
   "execution_count": 72,
   "metadata": {},
   "outputs": [
    {
     "data": {
      "text/html": [
       "<div>\n",
       "<style scoped>\n",
       "    .dataframe tbody tr th:only-of-type {\n",
       "        vertical-align: middle;\n",
       "    }\n",
       "\n",
       "    .dataframe tbody tr th {\n",
       "        vertical-align: top;\n",
       "    }\n",
       "\n",
       "    .dataframe thead th {\n",
       "        text-align: right;\n",
       "    }\n",
       "</style>\n",
       "<table border=\"1\" class=\"dataframe\">\n",
       "  <thead>\n",
       "    <tr style=\"text-align: right;\">\n",
       "      <th></th>\n",
       "      <th>date</th>\n",
       "      <th>song</th>\n",
       "      <th>artist</th>\n",
       "      <th>peak-rank</th>\n",
       "      <th>weeks-on-board</th>\n",
       "      <th>genres</th>\n",
       "      <th>track</th>\n",
       "      <th>uri</th>\n",
       "      <th>danceability</th>\n",
       "      <th>energy</th>\n",
       "      <th>...</th>\n",
       "      <th>liveness</th>\n",
       "      <th>valence</th>\n",
       "      <th>tempo</th>\n",
       "      <th>duration_ms</th>\n",
       "      <th>time_signature</th>\n",
       "      <th>chorus_hit</th>\n",
       "      <th>sections</th>\n",
       "      <th>target</th>\n",
       "      <th>year</th>\n",
       "      <th>id</th>\n",
       "    </tr>\n",
       "  </thead>\n",
       "  <tbody>\n",
       "    <tr>\n",
       "      <th>0</th>\n",
       "      <td>2000-01-01</td>\n",
       "      <td>A Country Boy Can Survive (Y2K Version)</td>\n",
       "      <td>Chad Brock With Hank Williams Jr. &amp; George Jones</td>\n",
       "      <td>75</td>\n",
       "      <td>3</td>\n",
       "      <td>['american', 'country', 'country music royalty...</td>\n",
       "      <td>A Country Boy Can Survive (Y2K Version)</td>\n",
       "      <td>spotify:track:5pinOKTQyPCPpgjIOKVFY3</td>\n",
       "      <td>0.669</td>\n",
       "      <td>0.592</td>\n",
       "      <td>...</td>\n",
       "      <td>0.114</td>\n",
       "      <td>0.51</td>\n",
       "      <td>75.938</td>\n",
       "      <td>237667.0</td>\n",
       "      <td>4.0</td>\n",
       "      <td>23.61273</td>\n",
       "      <td>11.0</td>\n",
       "      <td>1.0</td>\n",
       "      <td>2000</td>\n",
       "      <td>A_Country_Boy_Can_Survive_(Y2K_Version)_by_Cha...</td>\n",
       "    </tr>\n",
       "    <tr>\n",
       "      <th>1</th>\n",
       "      <td>2000-01-01</td>\n",
       "      <td>I Wanna Know</td>\n",
       "      <td>Joe</td>\n",
       "      <td>4</td>\n",
       "      <td>44</td>\n",
       "      <td>['american', 'bebop', 'death by liver cancer',...</td>\n",
       "      <td>I Wanna Know</td>\n",
       "      <td>spotify:track:1m2xMsxbtxv21Brome189p</td>\n",
       "      <td>0.725</td>\n",
       "      <td>0.487</td>\n",
       "      <td>...</td>\n",
       "      <td>0.431</td>\n",
       "      <td>0.599</td>\n",
       "      <td>136.086</td>\n",
       "      <td>296693.0</td>\n",
       "      <td>4.0</td>\n",
       "      <td>30.12501</td>\n",
       "      <td>12.0</td>\n",
       "      <td>1.0</td>\n",
       "      <td>2000</td>\n",
       "      <td>I_Wanna_Know_by_Joe</td>\n",
       "    </tr>\n",
       "    <tr>\n",
       "      <th>2</th>\n",
       "      <td>2000-01-01</td>\n",
       "      <td>The Quittin' Kind</td>\n",
       "      <td>Joe Diffie</td>\n",
       "      <td>90</td>\n",
       "      <td>6</td>\n",
       "      <td>['country', 'death by covid-19']</td>\n",
       "      <td>The Quittin' Kind</td>\n",
       "      <td>spotify:track:4u6U5nwYHok67BBymI9ldh</td>\n",
       "      <td>0.595</td>\n",
       "      <td>0.904</td>\n",
       "      <td>...</td>\n",
       "      <td>0.397</td>\n",
       "      <td>0.6</td>\n",
       "      <td>102.002</td>\n",
       "      <td>207467.0</td>\n",
       "      <td>4.0</td>\n",
       "      <td>39.45951</td>\n",
       "      <td>9.0</td>\n",
       "      <td>1.0</td>\n",
       "      <td>2000</td>\n",
       "      <td>The_Quittin'_Kind_by_Joe_Diffie</td>\n",
       "    </tr>\n",
       "    <tr>\n",
       "      <th>3</th>\n",
       "      <td>2000-01-01</td>\n",
       "      <td>Show Me The Meaning Of Being Lonely</td>\n",
       "      <td>Backstreet Boys</td>\n",
       "      <td>6</td>\n",
       "      <td>24</td>\n",
       "      <td>['american', 'boy band', 'boy group', 'dance-p...</td>\n",
       "      <td>Show Me The Meaning Of Being Lonely</td>\n",
       "      <td>spotify:track:3BsaRV5QIulYz2lV9WWa8T</td>\n",
       "      <td>0.63</td>\n",
       "      <td>0.625</td>\n",
       "      <td>...</td>\n",
       "      <td>0.0765</td>\n",
       "      <td>0.683</td>\n",
       "      <td>167.998</td>\n",
       "      <td>234960.0</td>\n",
       "      <td>4.0</td>\n",
       "      <td>28.3789</td>\n",
       "      <td>13.0</td>\n",
       "      <td>1.0</td>\n",
       "      <td>2000</td>\n",
       "      <td>Show_Me_The_Meaning_Of_Being_Lonely_by_Backstr...</td>\n",
       "    </tr>\n",
       "    <tr>\n",
       "      <th>4</th>\n",
       "      <td>2000-01-01</td>\n",
       "      <td>This Gift</td>\n",
       "      <td>98 Degrees</td>\n",
       "      <td>49</td>\n",
       "      <td>3</td>\n",
       "      <td>['adult contemporary', 'american', 'boy band',...</td>\n",
       "      <td>Unknown</td>\n",
       "      <td>Unknown</td>\n",
       "      <td>Unknown</td>\n",
       "      <td>Unknown</td>\n",
       "      <td>...</td>\n",
       "      <td>Unknown</td>\n",
       "      <td>Unknown</td>\n",
       "      <td>Unknown</td>\n",
       "      <td>Unknown</td>\n",
       "      <td>Unknown</td>\n",
       "      <td>Unknown</td>\n",
       "      <td>Unknown</td>\n",
       "      <td>Unknown</td>\n",
       "      <td>2000</td>\n",
       "      <td>This_Gift_by_98_Degrees</td>\n",
       "    </tr>\n",
       "  </tbody>\n",
       "</table>\n",
       "<p>5 rows × 26 columns</p>\n",
       "</div>"
      ],
      "text/plain": [
       "         date                                     song  \\\n",
       "0  2000-01-01  A Country Boy Can Survive (Y2K Version)   \n",
       "1  2000-01-01                             I Wanna Know   \n",
       "2  2000-01-01                        The Quittin' Kind   \n",
       "3  2000-01-01      Show Me The Meaning Of Being Lonely   \n",
       "4  2000-01-01                                This Gift   \n",
       "\n",
       "                                             artist  peak-rank  \\\n",
       "0  Chad Brock With Hank Williams Jr. & George Jones         75   \n",
       "1                                               Joe          4   \n",
       "2                                        Joe Diffie         90   \n",
       "3                                   Backstreet Boys          6   \n",
       "4                                        98 Degrees         49   \n",
       "\n",
       "   weeks-on-board                                             genres  \\\n",
       "0               3  ['american', 'country', 'country music royalty...   \n",
       "1              44  ['american', 'bebop', 'death by liver cancer',...   \n",
       "2               6                   ['country', 'death by covid-19']   \n",
       "3              24  ['american', 'boy band', 'boy group', 'dance-p...   \n",
       "4               3  ['adult contemporary', 'american', 'boy band',...   \n",
       "\n",
       "                                     track  \\\n",
       "0  A Country Boy Can Survive (Y2K Version)   \n",
       "1                             I Wanna Know   \n",
       "2                        The Quittin' Kind   \n",
       "3      Show Me The Meaning Of Being Lonely   \n",
       "4                                  Unknown   \n",
       "\n",
       "                                    uri danceability   energy  ... liveness  \\\n",
       "0  spotify:track:5pinOKTQyPCPpgjIOKVFY3        0.669    0.592  ...    0.114   \n",
       "1  spotify:track:1m2xMsxbtxv21Brome189p        0.725    0.487  ...    0.431   \n",
       "2  spotify:track:4u6U5nwYHok67BBymI9ldh        0.595    0.904  ...    0.397   \n",
       "3  spotify:track:3BsaRV5QIulYz2lV9WWa8T         0.63    0.625  ...   0.0765   \n",
       "4                               Unknown      Unknown  Unknown  ...  Unknown   \n",
       "\n",
       "   valence    tempo duration_ms time_signature chorus_hit sections   target  \\\n",
       "0     0.51   75.938    237667.0            4.0   23.61273     11.0      1.0   \n",
       "1    0.599  136.086    296693.0            4.0   30.12501     12.0      1.0   \n",
       "2      0.6  102.002    207467.0            4.0   39.45951      9.0      1.0   \n",
       "3    0.683  167.998    234960.0            4.0    28.3789     13.0      1.0   \n",
       "4  Unknown  Unknown     Unknown        Unknown    Unknown  Unknown  Unknown   \n",
       "\n",
       "   year                                                 id  \n",
       "0  2000  A_Country_Boy_Can_Survive_(Y2K_Version)_by_Cha...  \n",
       "1  2000                                I_Wanna_Know_by_Joe  \n",
       "2  2000                    The_Quittin'_Kind_by_Joe_Diffie  \n",
       "3  2000  Show_Me_The_Meaning_Of_Being_Lonely_by_Backstr...  \n",
       "4  2000                            This_Gift_by_98_Degrees  \n",
       "\n",
       "[5 rows x 26 columns]"
      ]
     },
     "execution_count": 72,
     "metadata": {},
     "output_type": "execute_result"
    }
   ],
   "source": [
    "df_ours.head()"
   ]
  },
  {
   "cell_type": "markdown",
   "metadata": {},
   "source": [
    "Generate keywords for vikus view in order to have them seperately for each genre"
   ]
  },
  {
   "cell_type": "code",
   "execution_count": 75,
   "metadata": {},
   "outputs": [],
   "source": [
    "df_ours['keywords'] = df_ours.genres.apply(lambda x: x.replace(\"[\", \"\").replace(']', \"\").replace(\"'\", \"\"))"
   ]
  },
  {
   "cell_type": "code",
   "execution_count": 78,
   "metadata": {},
   "outputs": [
    {
     "data": {
      "text/html": [
       "<div>\n",
       "<style scoped>\n",
       "    .dataframe tbody tr th:only-of-type {\n",
       "        vertical-align: middle;\n",
       "    }\n",
       "\n",
       "    .dataframe tbody tr th {\n",
       "        vertical-align: top;\n",
       "    }\n",
       "\n",
       "    .dataframe thead th {\n",
       "        text-align: right;\n",
       "    }\n",
       "</style>\n",
       "<table border=\"1\" class=\"dataframe\">\n",
       "  <thead>\n",
       "    <tr style=\"text-align: right;\">\n",
       "      <th></th>\n",
       "      <th>date</th>\n",
       "      <th>song</th>\n",
       "      <th>artist</th>\n",
       "      <th>peak-rank</th>\n",
       "      <th>weeks-on-board</th>\n",
       "      <th>genres</th>\n",
       "      <th>track</th>\n",
       "      <th>uri</th>\n",
       "      <th>danceability</th>\n",
       "      <th>energy</th>\n",
       "      <th>...</th>\n",
       "      <th>valence</th>\n",
       "      <th>tempo</th>\n",
       "      <th>duration_ms</th>\n",
       "      <th>time_signature</th>\n",
       "      <th>chorus_hit</th>\n",
       "      <th>sections</th>\n",
       "      <th>target</th>\n",
       "      <th>year</th>\n",
       "      <th>id</th>\n",
       "      <th>keywords</th>\n",
       "    </tr>\n",
       "  </thead>\n",
       "  <tbody>\n",
       "    <tr>\n",
       "      <th>0</th>\n",
       "      <td>2000-01-01</td>\n",
       "      <td>A Country Boy Can Survive (Y2K Version)</td>\n",
       "      <td>Chad Brock With Hank Williams Jr. &amp; George Jones</td>\n",
       "      <td>75</td>\n",
       "      <td>3</td>\n",
       "      <td>['american', 'country', 'country music royalty...</td>\n",
       "      <td>A Country Boy Can Survive (Y2K Version)</td>\n",
       "      <td>spotify:track:5pinOKTQyPCPpgjIOKVFY3</td>\n",
       "      <td>0.669</td>\n",
       "      <td>0.592</td>\n",
       "      <td>...</td>\n",
       "      <td>0.51</td>\n",
       "      <td>75.938</td>\n",
       "      <td>237667.0</td>\n",
       "      <td>4.0</td>\n",
       "      <td>23.61273</td>\n",
       "      <td>11.0</td>\n",
       "      <td>1.0</td>\n",
       "      <td>2000</td>\n",
       "      <td>A_Country_Boy_Can_Survive_(Y2K_Version)_by_Cha...</td>\n",
       "      <td>american, country, country music royalty, outl...</td>\n",
       "    </tr>\n",
       "    <tr>\n",
       "      <th>1</th>\n",
       "      <td>2000-01-01</td>\n",
       "      <td>I Wanna Know</td>\n",
       "      <td>Joe</td>\n",
       "      <td>4</td>\n",
       "      <td>44</td>\n",
       "      <td>['american', 'bebop', 'death by liver cancer',...</td>\n",
       "      <td>I Wanna Know</td>\n",
       "      <td>spotify:track:1m2xMsxbtxv21Brome189p</td>\n",
       "      <td>0.725</td>\n",
       "      <td>0.487</td>\n",
       "      <td>...</td>\n",
       "      <td>0.599</td>\n",
       "      <td>136.086</td>\n",
       "      <td>296693.0</td>\n",
       "      <td>4.0</td>\n",
       "      <td>30.12501</td>\n",
       "      <td>12.0</td>\n",
       "      <td>1.0</td>\n",
       "      <td>2000</td>\n",
       "      <td>I_Wanna_Know_by_Joe</td>\n",
       "      <td>american, bebop, death by liver cancer, jazz</td>\n",
       "    </tr>\n",
       "    <tr>\n",
       "      <th>2</th>\n",
       "      <td>2000-01-01</td>\n",
       "      <td>The Quittin' Kind</td>\n",
       "      <td>Joe Diffie</td>\n",
       "      <td>90</td>\n",
       "      <td>6</td>\n",
       "      <td>['country', 'death by covid-19']</td>\n",
       "      <td>The Quittin' Kind</td>\n",
       "      <td>spotify:track:4u6U5nwYHok67BBymI9ldh</td>\n",
       "      <td>0.595</td>\n",
       "      <td>0.904</td>\n",
       "      <td>...</td>\n",
       "      <td>0.6</td>\n",
       "      <td>102.002</td>\n",
       "      <td>207467.0</td>\n",
       "      <td>4.0</td>\n",
       "      <td>39.45951</td>\n",
       "      <td>9.0</td>\n",
       "      <td>1.0</td>\n",
       "      <td>2000</td>\n",
       "      <td>The_Quittin'_Kind_by_Joe_Diffie</td>\n",
       "      <td>country, death by covid-19</td>\n",
       "    </tr>\n",
       "    <tr>\n",
       "      <th>3</th>\n",
       "      <td>2000-01-01</td>\n",
       "      <td>Show Me The Meaning Of Being Lonely</td>\n",
       "      <td>Backstreet Boys</td>\n",
       "      <td>6</td>\n",
       "      <td>24</td>\n",
       "      <td>['american', 'boy band', 'boy group', 'dance-p...</td>\n",
       "      <td>Show Me The Meaning Of Being Lonely</td>\n",
       "      <td>spotify:track:3BsaRV5QIulYz2lV9WWa8T</td>\n",
       "      <td>0.63</td>\n",
       "      <td>0.625</td>\n",
       "      <td>...</td>\n",
       "      <td>0.683</td>\n",
       "      <td>167.998</td>\n",
       "      <td>234960.0</td>\n",
       "      <td>4.0</td>\n",
       "      <td>28.3789</td>\n",
       "      <td>13.0</td>\n",
       "      <td>1.0</td>\n",
       "      <td>2000</td>\n",
       "      <td>Show_Me_The_Meaning_Of_Being_Lonely_by_Backstr...</td>\n",
       "      <td>american, boy band, boy group, dance-pop, elec...</td>\n",
       "    </tr>\n",
       "    <tr>\n",
       "      <th>4</th>\n",
       "      <td>2000-01-01</td>\n",
       "      <td>This Gift</td>\n",
       "      <td>98 Degrees</td>\n",
       "      <td>49</td>\n",
       "      <td>3</td>\n",
       "      <td>['adult contemporary', 'american', 'boy band',...</td>\n",
       "      <td>Unknown</td>\n",
       "      <td>Unknown</td>\n",
       "      <td>Unknown</td>\n",
       "      <td>Unknown</td>\n",
       "      <td>...</td>\n",
       "      <td>Unknown</td>\n",
       "      <td>Unknown</td>\n",
       "      <td>Unknown</td>\n",
       "      <td>Unknown</td>\n",
       "      <td>Unknown</td>\n",
       "      <td>Unknown</td>\n",
       "      <td>Unknown</td>\n",
       "      <td>2000</td>\n",
       "      <td>This_Gift_by_98_Degrees</td>\n",
       "      <td>adult contemporary, american, boy band, contem...</td>\n",
       "    </tr>\n",
       "  </tbody>\n",
       "</table>\n",
       "<p>5 rows × 27 columns</p>\n",
       "</div>"
      ],
      "text/plain": [
       "         date                                     song  \\\n",
       "0  2000-01-01  A Country Boy Can Survive (Y2K Version)   \n",
       "1  2000-01-01                             I Wanna Know   \n",
       "2  2000-01-01                        The Quittin' Kind   \n",
       "3  2000-01-01      Show Me The Meaning Of Being Lonely   \n",
       "4  2000-01-01                                This Gift   \n",
       "\n",
       "                                             artist  peak-rank  \\\n",
       "0  Chad Brock With Hank Williams Jr. & George Jones         75   \n",
       "1                                               Joe          4   \n",
       "2                                        Joe Diffie         90   \n",
       "3                                   Backstreet Boys          6   \n",
       "4                                        98 Degrees         49   \n",
       "\n",
       "   weeks-on-board                                             genres  \\\n",
       "0               3  ['american', 'country', 'country music royalty...   \n",
       "1              44  ['american', 'bebop', 'death by liver cancer',...   \n",
       "2               6                   ['country', 'death by covid-19']   \n",
       "3              24  ['american', 'boy band', 'boy group', 'dance-p...   \n",
       "4               3  ['adult contemporary', 'american', 'boy band',...   \n",
       "\n",
       "                                     track  \\\n",
       "0  A Country Boy Can Survive (Y2K Version)   \n",
       "1                             I Wanna Know   \n",
       "2                        The Quittin' Kind   \n",
       "3      Show Me The Meaning Of Being Lonely   \n",
       "4                                  Unknown   \n",
       "\n",
       "                                    uri danceability   energy  ...  valence  \\\n",
       "0  spotify:track:5pinOKTQyPCPpgjIOKVFY3        0.669    0.592  ...     0.51   \n",
       "1  spotify:track:1m2xMsxbtxv21Brome189p        0.725    0.487  ...    0.599   \n",
       "2  spotify:track:4u6U5nwYHok67BBymI9ldh        0.595    0.904  ...      0.6   \n",
       "3  spotify:track:3BsaRV5QIulYz2lV9WWa8T         0.63    0.625  ...    0.683   \n",
       "4                               Unknown      Unknown  Unknown  ...  Unknown   \n",
       "\n",
       "     tempo duration_ms time_signature chorus_hit sections   target  year  \\\n",
       "0   75.938    237667.0            4.0   23.61273     11.0      1.0  2000   \n",
       "1  136.086    296693.0            4.0   30.12501     12.0      1.0  2000   \n",
       "2  102.002    207467.0            4.0   39.45951      9.0      1.0  2000   \n",
       "3  167.998    234960.0            4.0    28.3789     13.0      1.0  2000   \n",
       "4  Unknown     Unknown        Unknown    Unknown  Unknown  Unknown  2000   \n",
       "\n",
       "                                                  id  \\\n",
       "0  A_Country_Boy_Can_Survive_(Y2K_Version)_by_Cha...   \n",
       "1                                I_Wanna_Know_by_Joe   \n",
       "2                    The_Quittin'_Kind_by_Joe_Diffie   \n",
       "3  Show_Me_The_Meaning_Of_Being_Lonely_by_Backstr...   \n",
       "4                            This_Gift_by_98_Degrees   \n",
       "\n",
       "                                            keywords  \n",
       "0  american, country, country music royalty, outl...  \n",
       "1       american, bebop, death by liver cancer, jazz  \n",
       "2                         country, death by covid-19  \n",
       "3  american, boy band, boy group, dance-pop, elec...  \n",
       "4  adult contemporary, american, boy band, contem...  \n",
       "\n",
       "[5 rows x 27 columns]"
      ]
     },
     "execution_count": 78,
     "metadata": {},
     "output_type": "execute_result"
    }
   ],
   "source": [
    "df_ours.head()"
   ]
  },
  {
   "cell_type": "code",
   "execution_count": 113,
   "metadata": {},
   "outputs": [],
   "source": [
    "# df_ours.to_csv('df_data1.csv', index= False)"
   ]
  },
  {
   "cell_type": "markdown",
   "metadata": {},
   "source": [
    "Obtain the original timeline from Vikus and adapt it to fit our needs"
   ]
  },
  {
   "cell_type": "code",
   "execution_count": 79,
   "metadata": {},
   "outputs": [],
   "source": [
    "df_timeline_ours = pd.read_csv(\"timeline.csv\")"
   ]
  },
  {
   "cell_type": "code",
   "execution_count": 80,
   "metadata": {},
   "outputs": [
    {
     "name": "stderr",
     "output_type": "stream",
     "text": [
      "/var/folders/j0/455vlmts6yl8rk8fz6ztpr480000gn/T/ipykernel_51571/2067459166.py:1: FutureWarning: The frame.append method is deprecated and will be removed from pandas in a future version. Use pandas.concat instead.\n",
      "  df_timeline_ours1 = df_timeline_ours.append(df_timeline_ours[:7]).reset_index(drop=True)\n"
     ]
    }
   ],
   "source": [
    "df_timeline_ours1 = df_timeline_ours.append(df_timeline_ours[:7]).reset_index(drop=True)"
   ]
  },
  {
   "cell_type": "code",
   "execution_count": 82,
   "metadata": {},
   "outputs": [
    {
     "data": {
      "text/html": [
       "<div>\n",
       "<style scoped>\n",
       "    .dataframe tbody tr th:only-of-type {\n",
       "        vertical-align: middle;\n",
       "    }\n",
       "\n",
       "    .dataframe tbody tr th {\n",
       "        vertical-align: top;\n",
       "    }\n",
       "\n",
       "    .dataframe thead th {\n",
       "        text-align: right;\n",
       "    }\n",
       "</style>\n",
       "<table border=\"1\" class=\"dataframe\">\n",
       "  <thead>\n",
       "    <tr style=\"text-align: right;\">\n",
       "      <th></th>\n",
       "      <th>year</th>\n",
       "      <th>titel</th>\n",
       "      <th>text</th>\n",
       "      <th>extra</th>\n",
       "      <th>link</th>\n",
       "      <th>kategorie</th>\n",
       "    </tr>\n",
       "  </thead>\n",
       "  <tbody>\n",
       "    <tr>\n",
       "      <th>0</th>\n",
       "      <td>1864</td>\n",
       "      <td>Early work</td>\n",
       "      <td>Vincent begins drawing his surroundings early,...</td>\n",
       "      <td>The family van Gogh lives in the small town Zu...</td>\n",
       "      <td>NaN</td>\n",
       "      <td>NaN</td>\n",
       "    </tr>\n",
       "    <tr>\n",
       "      <th>1</th>\n",
       "      <td>1872</td>\n",
       "      <td>Brotherly love</td>\n",
       "      <td>From The Hague, where Vincent is living and wo...</td>\n",
       "      <td>It was Theo who advised Vincent to take on a c...</td>\n",
       "      <td>NaN</td>\n",
       "      <td>NaN</td>\n",
       "    </tr>\n",
       "    <tr>\n",
       "      <th>2</th>\n",
       "      <td>1873</td>\n",
       "      <td>Moving abroad</td>\n",
       "      <td>In 1873, Vincent is moved to the London branch...</td>\n",
       "      <td>Far away from his family, he feels lonely and ...</td>\n",
       "      <td>NaN</td>\n",
       "      <td>NaN</td>\n",
       "    </tr>\n",
       "    <tr>\n",
       "      <th>3</th>\n",
       "      <td>1876</td>\n",
       "      <td>Searching for new prospects</td>\n",
       "      <td>Vincent is dismissed from the international ar...</td>\n",
       "      <td>Vincent's younger brother Theo stays with the ...</td>\n",
       "      <td>NaN</td>\n",
       "      <td>NaN</td>\n",
       "    </tr>\n",
       "    <tr>\n",
       "      <th>4</th>\n",
       "      <td>1879</td>\n",
       "      <td>Coal miners</td>\n",
       "      <td>While searching for a new profession, Vincent ...</td>\n",
       "      <td>NaN</td>\n",
       "      <td>NaN</td>\n",
       "      <td>NaN</td>\n",
       "    </tr>\n",
       "  </tbody>\n",
       "</table>\n",
       "</div>"
      ],
      "text/plain": [
       "   year                        titel  \\\n",
       "0  1864                   Early work   \n",
       "1  1872               Brotherly love   \n",
       "2  1873                Moving abroad   \n",
       "3  1876  Searching for new prospects   \n",
       "4  1879                  Coal miners   \n",
       "\n",
       "                                                text  \\\n",
       "0  Vincent begins drawing his surroundings early,...   \n",
       "1  From The Hague, where Vincent is living and wo...   \n",
       "2  In 1873, Vincent is moved to the London branch...   \n",
       "3  Vincent is dismissed from the international ar...   \n",
       "4  While searching for a new profession, Vincent ...   \n",
       "\n",
       "                                               extra  link  kategorie  \n",
       "0  The family van Gogh lives in the small town Zu...   NaN        NaN  \n",
       "1  It was Theo who advised Vincent to take on a c...   NaN        NaN  \n",
       "2  Far away from his family, he feels lonely and ...   NaN        NaN  \n",
       "3  Vincent's younger brother Theo stays with the ...   NaN        NaN  \n",
       "4                                                NaN   NaN        NaN  "
      ]
     },
     "execution_count": 82,
     "metadata": {},
     "output_type": "execute_result"
    }
   ],
   "source": [
    "df_timeline_ours1.head()"
   ]
  },
  {
   "cell_type": "code",
   "execution_count": 86,
   "metadata": {},
   "outputs": [],
   "source": [
    "df_timeline_ours1.year = np.arange(2000, 2023)"
   ]
  },
  {
   "cell_type": "code",
   "execution_count": 87,
   "metadata": {},
   "outputs": [],
   "source": [
    "# df_timeline_ours1.to_csv(\"df_timeline_ours1.csv\", index = False)"
   ]
  },
  {
   "cell_type": "code",
   "execution_count": 88,
   "metadata": {},
   "outputs": [],
   "source": [
    "def edit_name(s):\n",
    "    if s == \"year\" or s==\"id\" or s == 'keywords':\n",
    "        return s\n",
    "    else:\n",
    "        return \"_\" + s"
   ]
  },
  {
   "cell_type": "markdown",
   "metadata": {},
   "source": [
    "Proper naming: further edit naming"
   ]
  },
  {
   "cell_type": "code",
   "execution_count": 89,
   "metadata": {},
   "outputs": [],
   "source": [
    "df_data1 = pd.read_csv(\"df_data1.csv\")"
   ]
  },
  {
   "cell_type": "code",
   "execution_count": 92,
   "metadata": {},
   "outputs": [],
   "source": [
    "df_data1.columns = pd.Series(df_data1.columns).apply(edit_name)"
   ]
  },
  {
   "cell_type": "code",
   "execution_count": 28,
   "metadata": {},
   "outputs": [],
   "source": [
    "# df_data1.to_csv(\"df_data_proper_name.csv\", index = False)"
   ]
  },
  {
   "cell_type": "markdown",
   "metadata": {},
   "source": [
    "Generate template images for Vikus"
   ]
  },
  {
   "cell_type": "code",
   "execution_count": 80,
   "metadata": {},
   "outputs": [],
   "source": [
    "from PIL import Image\n",
    "img_PIL = Image.open('star_yellow.png')\n",
    "# img_PIL.show()\n",
    "rgb_im = img_PIL.convert('RGB')"
   ]
  },
  {
   "cell_type": "code",
   "execution_count": 90,
   "metadata": {},
   "outputs": [],
   "source": [
    "for name in df_ours.id:\n",
    "    rgb_im.save(f'images/{name}.jpg')"
   ]
  },
  {
   "cell_type": "markdown",
   "metadata": {},
   "source": [
    "Generate test dataset for 200 songs"
   ]
  },
  {
   "cell_type": "code",
   "execution_count": 114,
   "metadata": {},
   "outputs": [],
   "source": [
    "df_temp_200 = df_ours.sample(200)"
   ]
  },
  {
   "cell_type": "code",
   "execution_count": 115,
   "metadata": {},
   "outputs": [],
   "source": [
    "df_temp_200.to_csv(\"df_temp_200.csv\", index = False)"
   ]
  },
  {
   "cell_type": "code",
   "execution_count": 96,
   "metadata": {},
   "outputs": [],
   "source": [
    "for name in df_temp_200.id:\n",
    "    rgb_im.save(f'temp_images/{name}.jpg')"
   ]
  },
  {
   "cell_type": "code",
   "execution_count": 9,
   "metadata": {},
   "outputs": [],
   "source": [
    "df_temp_200 = pd.read_csv(\"df_temp_200.csv\")"
   ]
  },
  {
   "cell_type": "code",
   "execution_count": 17,
   "metadata": {},
   "outputs": [],
   "source": [
    "df_temp_200.columns = pd.Series(df_temp_200.columns).apply(edit_name)"
   ]
  },
  {
   "cell_type": "code",
   "execution_count": 20,
   "metadata": {},
   "outputs": [],
   "source": [
    "# df_temp_200.to_csv(\"df_temp_200_proper_name.csv\", index = False)"
   ]
  },
  {
   "cell_type": "markdown",
   "metadata": {},
   "source": [
    "Merge the latest 2020 and 2021 spotify dataset to give the relevant scores"
   ]
  },
  {
   "cell_type": "code",
   "execution_count": 165,
   "metadata": {},
   "outputs": [],
   "source": [
    "new2021 = pd.read_csv('spotify_dataset.csv')\n",
    "new2021['year']=new2021['Release Date'].apply(lambda x: x[:4])\n"
   ]
  },
  {
   "cell_type": "code",
   "execution_count": 172,
   "metadata": {},
   "outputs": [],
   "source": [
    "new2021.columns= new2021.columns.str.lower()"
   ]
  },
  {
   "cell_type": "code",
   "execution_count": 43,
   "metadata": {},
   "outputs": [],
   "source": [
    "old_d =pd.read_csv(\"df_data1.csv\")\n",
    "new_d =  pd.read_csv(\"df_1015rows_reduced_cols.csv\")"
   ]
  },
  {
   "cell_type": "code",
   "execution_count": 44,
   "metadata": {},
   "outputs": [],
   "source": [
    "old_d[[\"uri\", \"id\"]].merge(new_d).to_csv(\"new.csv\", index=False)"
   ]
  },
  {
   "cell_type": "code",
   "execution_count": 46,
   "metadata": {},
   "outputs": [],
   "source": [
    "scores = old_d[['danceability', 'energy', \"acousticness\", \"speechiness\",'year']]"
   ]
  },
  {
   "cell_type": "code",
   "execution_count": 47,
   "metadata": {},
   "outputs": [],
   "source": [
    "for col in scores.columns[:-1]:\n",
    "    scores = scores[scores[col] != \"Unknown\"]\n",
    "    scores[col] = scores[col].astype(float)"
   ]
  },
  {
   "cell_type": "code",
   "execution_count": 173,
   "metadata": {},
   "outputs": [],
   "source": [
    "morescores = new2021[['danceability', 'energy', \"acousticness\", \"speechiness\",'year']]"
   ]
  },
  {
   "cell_type": "code",
   "execution_count": 189,
   "metadata": {},
   "outputs": [
    {
     "data": {
      "text/html": [
       "<div>\n",
       "<style scoped>\n",
       "    .dataframe tbody tr th:only-of-type {\n",
       "        vertical-align: middle;\n",
       "    }\n",
       "\n",
       "    .dataframe tbody tr th {\n",
       "        vertical-align: top;\n",
       "    }\n",
       "\n",
       "    .dataframe thead th {\n",
       "        text-align: right;\n",
       "    }\n",
       "</style>\n",
       "<table border=\"1\" class=\"dataframe\">\n",
       "  <thead>\n",
       "    <tr style=\"text-align: right;\">\n",
       "      <th></th>\n",
       "      <th>danceability</th>\n",
       "      <th>energy</th>\n",
       "      <th>acousticness</th>\n",
       "      <th>speechiness</th>\n",
       "      <th>year</th>\n",
       "    </tr>\n",
       "  </thead>\n",
       "  <tbody>\n",
       "    <tr>\n",
       "      <th>0</th>\n",
       "      <td>0.714</td>\n",
       "      <td>0.8</td>\n",
       "      <td>0.127</td>\n",
       "      <td>0.0504</td>\n",
       "      <td>2017</td>\n",
       "    </tr>\n",
       "    <tr>\n",
       "      <th>1</th>\n",
       "      <td>0.591</td>\n",
       "      <td>0.764</td>\n",
       "      <td>0.0383</td>\n",
       "      <td>0.0483</td>\n",
       "      <td>2021</td>\n",
       "    </tr>\n",
       "    <tr>\n",
       "      <th>2</th>\n",
       "      <td>0.563</td>\n",
       "      <td>0.664</td>\n",
       "      <td>0.335</td>\n",
       "      <td>0.154</td>\n",
       "      <td>2021</td>\n",
       "    </tr>\n",
       "    <tr>\n",
       "      <th>3</th>\n",
       "      <td>0.808</td>\n",
       "      <td>0.897</td>\n",
       "      <td>0.0469</td>\n",
       "      <td>0.0348</td>\n",
       "      <td>2021</td>\n",
       "    </tr>\n",
       "    <tr>\n",
       "      <th>4</th>\n",
       "      <td>0.736</td>\n",
       "      <td>0.704</td>\n",
       "      <td>0.0203</td>\n",
       "      <td>0.0615</td>\n",
       "      <td>2021</td>\n",
       "    </tr>\n",
       "    <tr>\n",
       "      <th>...</th>\n",
       "      <td>...</td>\n",
       "      <td>...</td>\n",
       "      <td>...</td>\n",
       "      <td>...</td>\n",
       "      <td>...</td>\n",
       "    </tr>\n",
       "    <tr>\n",
       "      <th>1551</th>\n",
       "      <td>0.762</td>\n",
       "      <td>0.7</td>\n",
       "      <td>0.00261</td>\n",
       "      <td>0.0694</td>\n",
       "      <td>2017</td>\n",
       "    </tr>\n",
       "    <tr>\n",
       "      <th>1552</th>\n",
       "      <td>0.528</td>\n",
       "      <td>0.87</td>\n",
       "      <td>0.24</td>\n",
       "      <td>0.0851</td>\n",
       "      <td>2019</td>\n",
       "    </tr>\n",
       "    <tr>\n",
       "      <th>1553</th>\n",
       "      <td>0.765</td>\n",
       "      <td>0.523</td>\n",
       "      <td>0.184</td>\n",
       "      <td>0.03</td>\n",
       "      <td>2018</td>\n",
       "    </tr>\n",
       "    <tr>\n",
       "      <th>1554</th>\n",
       "      <td>0.832</td>\n",
       "      <td>0.55</td>\n",
       "      <td>0.249</td>\n",
       "      <td>0.0587</td>\n",
       "      <td>2019</td>\n",
       "    </tr>\n",
       "    <tr>\n",
       "      <th>1555</th>\n",
       "      <td>0.448</td>\n",
       "      <td>0.603</td>\n",
       "      <td>0.433</td>\n",
       "      <td>0.064</td>\n",
       "      <td>2019</td>\n",
       "    </tr>\n",
       "  </tbody>\n",
       "</table>\n",
       "<p>1556 rows × 5 columns</p>\n",
       "</div>"
      ],
      "text/plain": [
       "     danceability energy acousticness speechiness  year\n",
       "0           0.714    0.8        0.127      0.0504  2017\n",
       "1           0.591  0.764       0.0383      0.0483  2021\n",
       "2           0.563  0.664        0.335       0.154  2021\n",
       "3           0.808  0.897       0.0469      0.0348  2021\n",
       "4           0.736  0.704       0.0203      0.0615  2021\n",
       "...           ...    ...          ...         ...   ...\n",
       "1551        0.762    0.7      0.00261      0.0694  2017\n",
       "1552        0.528   0.87         0.24      0.0851  2019\n",
       "1553        0.765  0.523        0.184        0.03  2018\n",
       "1554        0.832   0.55        0.249      0.0587  2019\n",
       "1555        0.448  0.603        0.433       0.064  2019\n",
       "\n",
       "[1556 rows x 5 columns]"
      ]
     },
     "execution_count": 189,
     "metadata": {},
     "output_type": "execute_result"
    }
   ],
   "source": [
    "morescores"
   ]
  },
  {
   "cell_type": "code",
   "execution_count": 193,
   "metadata": {},
   "outputs": [],
   "source": [
    "morescores = morescores.query('year == \"2020\" | \"2021\" == year')"
   ]
  },
  {
   "cell_type": "code",
   "execution_count": 195,
   "metadata": {},
   "outputs": [
    {
     "name": "stderr",
     "output_type": "stream",
     "text": [
      "/var/folders/j0/455vlmts6yl8rk8fz6ztpr480000gn/T/ipykernel_38001/583159512.py:2: SettingWithCopyWarning: \n",
      "A value is trying to be set on a copy of a slice from a DataFrame.\n",
      "Try using .loc[row_indexer,col_indexer] = value instead\n",
      "\n",
      "See the caveats in the documentation: https://pandas.pydata.org/pandas-docs/stable/user_guide/indexing.html#returning-a-view-versus-a-copy\n",
      "  morescores[col] = morescores[col].astype(float)\n"
     ]
    }
   ],
   "source": [
    "for col in morescores.columns[:-1]:\n",
    "    morescores[col] = morescores[col].astype(float)"
   ]
  },
  {
   "cell_type": "code",
   "execution_count": 197,
   "metadata": {},
   "outputs": [],
   "source": [
    "# morescores.groupby(\"year\").mean().reset_index().to_csv(\"scores2021.csv\",index=False)"
   ]
  },
  {
   "cell_type": "markdown",
   "metadata": {},
   "source": [
    "Drop unknown instances"
   ]
  },
  {
   "cell_type": "code",
   "execution_count": 144,
   "metadata": {},
   "outputs": [],
   "source": [
    "df800 = pd.read_csv(\"df_1015rows_reduced_cols.csv\").replace(\"Unknown\", pd.NA).dropna()"
   ]
  },
  {
   "cell_type": "code",
   "execution_count": 58,
   "metadata": {},
   "outputs": [],
   "source": [
    "# df800.to_csv(\"df800.csv\", index=False)"
   ]
  },
  {
   "cell_type": "markdown",
   "metadata": {},
   "source": [
    "Get clean genre label for each songs"
   ]
  },
  {
   "cell_type": "code",
   "execution_count": 145,
   "metadata": {},
   "outputs": [],
   "source": [
    "cleaning_genre = \",\".join(list(df800.keywords)).replace(\" \", \"\").replace(\" \", \"\").replace(\" \", \"\").split(',')"
   ]
  },
  {
   "cell_type": "code",
   "execution_count": 101,
   "metadata": {},
   "outputs": [],
   "source": [
    "# pd.Series(cleaning_genre).value_counts().iloc[20:30]\n",
    "clean_genre = [\"pop\",\"hip hop\",\"rock\", \"r&b\", \"american\",\"country\", \"english\", \"rap\", \"dance\", \"soul\", \"teenpop\",\"dance-pop\",\"electropop\",\"poprock\", \"contemporaryr&b\",\"poprap\"]"
   ]
  },
  {
   "cell_type": "code",
   "execution_count": 106,
   "metadata": {},
   "outputs": [],
   "source": [
    "def get_genre(x):\n",
    "    res = []\n",
    "    for g in clean_genre:\n",
    "        if g in x:\n",
    "            res.append(g)\n",
    "\n",
    "    if res == []:\n",
    "        return \"Non-mainstream\"\n",
    "        \n",
    "    if len(res) > 2:\n",
    "        res = res[:2]\n",
    "    \n",
    "    return \", \".join(res)"
   ]
  },
  {
   "cell_type": "code",
   "execution_count": 150,
   "metadata": {},
   "outputs": [],
   "source": [
    "df800.keywords = df800.keywords.apply(get_genre)"
   ]
  },
  {
   "cell_type": "code",
   "execution_count": 151,
   "metadata": {},
   "outputs": [],
   "source": [
    "df772 =df800.dropna().reset_index(drop=True)"
   ]
  },
  {
   "cell_type": "code",
   "execution_count": 152,
   "metadata": {},
   "outputs": [],
   "source": [
    "valid_ids = list(df772.id)"
   ]
  },
  {
   "cell_type": "code",
   "execution_count": 156,
   "metadata": {},
   "outputs": [],
   "source": [
    "# df772.to_csv(\"df772.csv\", index=False)"
   ]
  },
  {
   "cell_type": "markdown",
   "metadata": {},
   "source": [
    "After scraping covers from Spotify API, we filter the covers that are with valid ID in current dataset after cleaning up."
   ]
  },
  {
   "cell_type": "code",
   "execution_count": 131,
   "metadata": {},
   "outputs": [],
   "source": [
    "import os\n",
    "import shutil\n",
    "# assign directory\n",
    "directory = 'valid_covers'\n",
    " \n",
    "# iterate over files in\n",
    "# that directory\n",
    "for filename in os.listdir(directory):\n",
    "    if filename[:-4] in valid_ids:\n",
    "        f = os.path.join(directory, filename)\n",
    "        shutil.copyfile(f, \"final_cover/\" + filename)\n",
    "        # print(f)\n",
    "\n",
    "    # break\n",
    "    # checking if it is a file\n",
    "    # if os.path.isfile(f):\n",
    "    #     print(f)"
   ]
  },
  {
   "cell_type": "code",
   "execution_count": 132,
   "metadata": {},
   "outputs": [
    {
     "data": {
      "text/plain": [
       "772"
      ]
     },
     "execution_count": 132,
     "metadata": {},
     "output_type": "execute_result"
    }
   ],
   "source": [
    "len(os.listdir(\"final_cover/\"))"
   ]
  },
  {
   "cell_type": "code",
   "execution_count": 13,
   "metadata": {},
   "outputs": [],
   "source": [
    "def find_one_genre(x):\n",
    "    for good_genre in clean_genre:\n",
    "        if good_genre in x:\n",
    "            return good_genre\n",
    "\n",
    "    return pd.NA"
   ]
  },
  {
   "cell_type": "code",
   "execution_count": 55,
   "metadata": {},
   "outputs": [],
   "source": [
    "def reform_date(x):\n",
    "    y, m, d = x.split(\"-\")\n",
    "    if y == \"2022\":\n",
    "        return pd.NA\n",
    "    return '01/01/' + y\n"
   ]
  },
  {
   "cell_type": "code",
   "execution_count": 97,
   "metadata": {},
   "outputs": [],
   "source": [
    "final_dataset = pd.read_csv(\"data.csv\")\n",
    "final_dataset1 = final_dataset.replace(\"hip-hop\", \"hip hop\")"
   ]
  },
  {
   "cell_type": "code",
   "execution_count": 108,
   "metadata": {},
   "outputs": [],
   "source": [
    "final_dataset1['_cleanGenre'] = final_dataset1.keywords.apply(get_genre)"
   ]
  },
  {
   "cell_type": "code",
   "execution_count": 109,
   "metadata": {},
   "outputs": [],
   "source": [
    "final_dataset1.to_csv(\"final_dataset1.csv\", index=False)"
   ]
  },
  {
   "cell_type": "code",
   "execution_count": null,
   "metadata": {},
   "outputs": [],
   "source": []
  }
 ],
 "metadata": {
  "interpreter": {
   "hash": "40d3a090f54c6569ab1632332b64b2c03c39dcf918b08424e98f38b5ae0af88f"
  },
  "kernelspec": {
   "display_name": "Python 3.9.7 ('base')",
   "language": "python",
   "name": "python3"
  },
  "language_info": {
   "codemirror_mode": {
    "name": "ipython",
    "version": 3
   },
   "file_extension": ".py",
   "mimetype": "text/x-python",
   "name": "python",
   "nbconvert_exporter": "python",
   "pygments_lexer": "ipython3",
   "version": "3.9.7"
  },
  "orig_nbformat": 4
 },
 "nbformat": 4,
 "nbformat_minor": 2
}
