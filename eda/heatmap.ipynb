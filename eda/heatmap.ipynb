{
 "cells": [
  {
   "cell_type": "code",
   "execution_count": 1,
   "metadata": {},
   "outputs": [],
   "source": [
    "import pandas as pd"
   ]
  },
  {
   "cell_type": "code",
   "execution_count": 2,
   "metadata": {},
   "outputs": [],
   "source": [
    "df = pd.read_csv('data/billboard.csv')\n",
    "dfl = pd.read_csv(\"data/lyrics.csv\")\n",
    "final = pd.read_csv(\"final_lyrics.csv\")"
   ]
  },
  {
   "cell_type": "code",
   "execution_count": 3,
   "metadata": {},
   "outputs": [],
   "source": [
    "dfl = dfl.dropna()\n",
    "final = final.dropna()"
   ]
  },
  {
   "cell_type": "code",
   "execution_count": 53,
   "metadata": {},
   "outputs": [
    {
     "data": {
      "text/html": [
       "<div>\n",
       "<style scoped>\n",
       "    .dataframe tbody tr th:only-of-type {\n",
       "        vertical-align: middle;\n",
       "    }\n",
       "\n",
       "    .dataframe tbody tr th {\n",
       "        vertical-align: top;\n",
       "    }\n",
       "\n",
       "    .dataframe thead th {\n",
       "        text-align: right;\n",
       "    }\n",
       "</style>\n",
       "<table border=\"1\" class=\"dataframe\">\n",
       "  <thead>\n",
       "    <tr style=\"text-align: right;\">\n",
       "      <th></th>\n",
       "      <th>Unnamed: 0</th>\n",
       "      <th>date</th>\n",
       "      <th>rank</th>\n",
       "      <th>song</th>\n",
       "      <th>artist</th>\n",
       "      <th>last-week</th>\n",
       "      <th>peak-rank</th>\n",
       "      <th>weeks-on-board</th>\n",
       "    </tr>\n",
       "  </thead>\n",
       "  <tbody>\n",
       "    <tr>\n",
       "      <th>0</th>\n",
       "      <td>0</td>\n",
       "      <td>2022-01-01</td>\n",
       "      <td>1</td>\n",
       "      <td>All I Want For Christmas Is You</td>\n",
       "      <td>Mariah Carey</td>\n",
       "      <td>1.0</td>\n",
       "      <td>1</td>\n",
       "      <td>50</td>\n",
       "    </tr>\n",
       "    <tr>\n",
       "      <th>1</th>\n",
       "      <td>1</td>\n",
       "      <td>2022-01-01</td>\n",
       "      <td>2</td>\n",
       "      <td>Rockin' Around The Christmas Tree</td>\n",
       "      <td>Brenda Lee</td>\n",
       "      <td>2.0</td>\n",
       "      <td>2</td>\n",
       "      <td>44</td>\n",
       "    </tr>\n",
       "    <tr>\n",
       "      <th>2</th>\n",
       "      <td>2</td>\n",
       "      <td>2022-01-01</td>\n",
       "      <td>3</td>\n",
       "      <td>Jingle Bell Rock</td>\n",
       "      <td>Bobby Helms</td>\n",
       "      <td>4.0</td>\n",
       "      <td>3</td>\n",
       "      <td>41</td>\n",
       "    </tr>\n",
       "    <tr>\n",
       "      <th>3</th>\n",
       "      <td>3</td>\n",
       "      <td>2022-01-01</td>\n",
       "      <td>4</td>\n",
       "      <td>A Holly Jolly Christmas</td>\n",
       "      <td>Burl Ives</td>\n",
       "      <td>5.0</td>\n",
       "      <td>4</td>\n",
       "      <td>25</td>\n",
       "    </tr>\n",
       "    <tr>\n",
       "      <th>4</th>\n",
       "      <td>4</td>\n",
       "      <td>2022-01-01</td>\n",
       "      <td>5</td>\n",
       "      <td>Easy On Me</td>\n",
       "      <td>Adele</td>\n",
       "      <td>3.0</td>\n",
       "      <td>1</td>\n",
       "      <td>11</td>\n",
       "    </tr>\n",
       "  </tbody>\n",
       "</table>\n",
       "</div>"
      ],
      "text/plain": [
       "   Unnamed: 0        date  rank                               song  \\\n",
       "0           0  2022-01-01     1    All I Want For Christmas Is You   \n",
       "1           1  2022-01-01     2  Rockin' Around The Christmas Tree   \n",
       "2           2  2022-01-01     3                   Jingle Bell Rock   \n",
       "3           3  2022-01-01     4            A Holly Jolly Christmas   \n",
       "4           4  2022-01-01     5                         Easy On Me   \n",
       "\n",
       "         artist  last-week  peak-rank  weeks-on-board  \n",
       "0  Mariah Carey        1.0          1              50  \n",
       "1    Brenda Lee        2.0          2              44  \n",
       "2   Bobby Helms        4.0          3              41  \n",
       "3     Burl Ives        5.0          4              25  \n",
       "4         Adele        3.0          1              11  "
      ]
     },
     "execution_count": 53,
     "metadata": {},
     "output_type": "execute_result"
    }
   ],
   "source": [
    "df.head()"
   ]
  },
  {
   "cell_type": "code",
   "execution_count": 4,
   "metadata": {},
   "outputs": [],
   "source": [
    "def get_count(string, word):\n",
    "    #print(string)\n",
    "    value = string.lower().count(word)\n",
    "    #print(value)\n",
    "    words = string.split(\" \")\n",
    "    return value"
   ]
  },
  {
   "cell_type": "code",
   "execution_count": 13,
   "metadata": {},
   "outputs": [
    {
     "name": "stdout",
     "output_type": "stream",
     "text": [
      "2000\n",
      "2001\n",
      "2002\n",
      "2003\n",
      "2004\n",
      "2005\n",
      "2006\n",
      "2007\n",
      "2008\n",
      "2009\n",
      "2010\n",
      "2011\n",
      "2012\n",
      "2013\n",
      "2014\n",
      "2015\n",
      "2016\n",
      "2017\n",
      "2018\n",
      "2019\n",
      "2020\n",
      "2021\n"
     ]
    }
   ],
   "source": [
    "out = {\n",
    "    \"year\": [],\n",
    "    \"rank\": [],\n",
    "    \"mean\": [],\n",
    "    \"song\": [],\n",
    "    \"artist\": [],\n",
    "    \"occ\": []\n",
    "}\n",
    "for y in range(2000, 2022):\n",
    "    print(y)\n",
    "    year = df[(f\"{y}-01-01 \" <= df['date']) & ( df['date'] <= f\"{y}-12-31\")]\n",
    "    for rs in range(1, 11):\n",
    "        rank = year[year['rank'] == rs]\n",
    "        rank = rank.reset_index()\n",
    "        lyrics = []\n",
    "        word = 'love'\n",
    "        ign = []\n",
    "        for i, r in rank.iterrows():\n",
    "            #print(r.song)\n",
    "            try:\n",
    "                if any(r[\"song\"] == final.song) and any(r[\"artist\"] == final.artist):\n",
    "                    tmp = final.loc[(final[\"song\"] == r[\"song\"]) & (r[\"artist\"] == final[\"artist\"]), 'lyrics'].iloc[0]\n",
    "                    lyrics.append(tmp)\n",
    "                elif any(r[\"song\"] == dfl.song) and any(r[\"artist\"] == dfl.artist):\n",
    "                    tmp = dfl.loc[(dfl[\"song\"] == r[\"song\"]) & (dfl[\"artist\"] == r[\"artist\"]), 'lyrics'].iloc[0]\n",
    "                    lyrics.append(tmp)\n",
    "                else:\n",
    "                    ign.append(i)\n",
    "            except:\n",
    "                ign.append(i)\n",
    "                print(r[\"song\"], r[\"artist\"])\n",
    "        rank = rank.drop(ign)\n",
    "        rank[\"lyrics\"] = lyrics\n",
    "        res = []\n",
    "        for _, song in rank.iterrows():\n",
    "            val = get_count(song[\"lyrics\"], word)\n",
    "            res.append(val)\n",
    "        rank[\"occ\"] = res\n",
    "        m = rank[\"occ\"].mean()\n",
    "        max_r = rank.loc[rank.occ.idxmax()]\n",
    "        max_r[\"song\"], max_r[\"artist\"]\n",
    "        out[\"year\"].append(y)\n",
    "        out[\"rank\"].append(rs)\n",
    "        out[\"mean\"].append(m)\n",
    "        out[\"song\"].append(max_r['song'])\n",
    "        out[\"artist\"].append(max_r['artist'])\n",
    "        out[\"occ\"].append(max_r['occ'])"
   ]
  },
  {
   "cell_type": "code",
   "execution_count": 14,
   "metadata": {},
   "outputs": [],
   "source": [
    "out_df = pd.DataFrame.from_dict(out)"
   ]
  },
  {
   "cell_type": "code",
   "execution_count": 15,
   "metadata": {},
   "outputs": [],
   "source": [
    "out_df.to_csv(\"love_top10.csv\", index=False)"
   ]
  },
  {
   "cell_type": "code",
   "execution_count": 8,
   "metadata": {},
   "outputs": [
    {
     "data": {
      "text/plain": [
       "2200"
      ]
     },
     "execution_count": 8,
     "metadata": {},
     "output_type": "execute_result"
    }
   ],
   "source": [
    "len(out_df)"
   ]
  },
  {
   "cell_type": "code",
   "execution_count": 170,
   "metadata": {},
   "outputs": [
    {
     "data": {
      "text/plain": [
       "1092"
      ]
     },
     "execution_count": 170,
     "metadata": {},
     "output_type": "execute_result"
    }
   ],
   "source": [
    "52*22"
   ]
  },
  {
   "cell_type": "markdown",
   "metadata": {},
   "source": [
    "year,rank,avg,name"
   ]
  }
 ],
 "metadata": {
  "interpreter": {
   "hash": "b0fa6594d8f4cbf19f97940f81e996739fb7646882a419484c72d19e05852a7e"
  },
  "kernelspec": {
   "display_name": "Python 3.9.10 64-bit",
   "language": "python",
   "name": "python3"
  },
  "language_info": {
   "codemirror_mode": {
    "name": "ipython",
    "version": 3
   },
   "file_extension": ".py",
   "mimetype": "text/x-python",
   "name": "python",
   "nbconvert_exporter": "python",
   "pygments_lexer": "ipython3",
   "version": "3.9.10"
  },
  "orig_nbformat": 4
 },
 "nbformat": 4,
 "nbformat_minor": 2
}
