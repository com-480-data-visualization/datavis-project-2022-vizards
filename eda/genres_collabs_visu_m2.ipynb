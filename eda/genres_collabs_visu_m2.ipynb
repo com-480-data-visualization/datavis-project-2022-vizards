{
 "cells": [
  {
   "cell_type": "code",
   "execution_count": 1,
   "metadata": {},
   "outputs": [],
   "source": [
    "# Imports \n",
    "import pandas as pd\n",
    "import itertools \n",
    "import networkx as nx\n",
    "# import matplotlib.pyplot as plt\n",
    "# import pytrends\n",
    "# import musicbrainzngs as m\n",
    "import numpy as np\n",
    "import requests\n",
    "\n",
    "# from pytrends.request import TrendReq\n",
    "from os import path\n",
    "from PIL import Image\n",
    "# from wordcloud import WordCloud, STOPWORDS, ImageColorGenerator"
   ]
  },
  {
   "cell_type": "code",
   "execution_count": 2,
   "metadata": {},
   "outputs": [],
   "source": [
    "def get_access_token(client_id, client_secret):\n",
    "    \"\"\"\n",
    "    Get the access token from Spotify\n",
    "    \"\"\"\n",
    "    body_params = {'grant_type': \"client_credentials\"}\n",
    "    url = 'https://accounts.spotify.com/api/token'\n",
    "\n",
    "    response = requests.post(url, data=body_params, auth=(client_id, client_secret))\n",
    "    if response.status_code == 200:\n",
    "        return response.json()['access_token']\n",
    "    else:\n",
    "        sys.exit(\"Failed to get access token. Is your client_id and client_secret correct?\")"
   ]
  },
  {
   "cell_type": "code",
   "execution_count": 3,
   "metadata": {},
   "outputs": [],
   "source": [
    "access_ = get_access_token(\"4cf8495267b343dabb2d8bbac64dae3f\",\"767c34864eb04921a754ff6b84eb1ada\")"
   ]
  },
  {
   "cell_type": "code",
   "execution_count": 4,
   "metadata": {},
   "outputs": [],
   "source": [
    "access = \"Bearer \" + access_"
   ]
  },
  {
   "cell_type": "code",
   "execution_count": 5,
   "metadata": {},
   "outputs": [],
   "source": [
    "def find_artist_genres(artist_name):\n",
    "    headers = {\n",
    "        'Accept': 'application/json',\n",
    "        'Content-Type': 'application/json',\n",
    "        'Authorization': access}\n",
    "    params = {\n",
    "        'q': artist_name,\n",
    "        'type': 'artist',\n",
    "        'limit': '1',\n",
    "    }\n",
    "\n",
    "    response = requests.get('https://api.spotify.com/v1/search', params=params, headers=headers)\n",
    "    \n",
    "    return response.json()['artists']['items'][0]['genres']"
   ]
  },
  {
   "cell_type": "code",
   "execution_count": 6,
   "metadata": {},
   "outputs": [
    {
     "data": {
      "text/plain": [
       "['art pop', 'dance pop', 'pop']"
      ]
     },
     "execution_count": 6,
     "metadata": {},
     "output_type": "execute_result"
    }
   ],
   "source": [
    "find_artist_genres(\"Lady Gaga\")"
   ]
  },
  {
   "cell_type": "code",
   "execution_count": 7,
   "metadata": {
    "scrolled": true
   },
   "outputs": [],
   "source": [
    "artist_genres_df = pd.read_json(\"../data/artist_genres.json\")"
   ]
  },
  {
   "cell_type": "code",
   "execution_count": 8,
   "metadata": {
    "scrolled": false
   },
   "outputs": [
    {
     "data": {
      "text/html": [
       "<div>\n",
       "<style scoped>\n",
       "    .dataframe tbody tr th:only-of-type {\n",
       "        vertical-align: middle;\n",
       "    }\n",
       "\n",
       "    .dataframe tbody tr th {\n",
       "        vertical-align: top;\n",
       "    }\n",
       "\n",
       "    .dataframe thead th {\n",
       "        text-align: right;\n",
       "    }\n",
       "</style>\n",
       "<table border=\"1\" class=\"dataframe\">\n",
       "  <thead>\n",
       "    <tr style=\"text-align: right;\">\n",
       "      <th></th>\n",
       "      <th>artist</th>\n",
       "      <th>genres</th>\n",
       "    </tr>\n",
       "  </thead>\n",
       "  <tbody>\n",
       "    <tr>\n",
       "      <th>0</th>\n",
       "      <td>\"Groove\" Holmes</td>\n",
       "      <td>[hard bop, jazz and blues, soul jazz]</td>\n",
       "    </tr>\n",
       "    <tr>\n",
       "      <th>1</th>\n",
       "      <td>\"Weird Al\" Yankovic</td>\n",
       "      <td>[accordion, american, comedy, comedy rock, par...</td>\n",
       "    </tr>\n",
       "    <tr>\n",
       "      <th>2</th>\n",
       "      <td>'N Sync &amp; Gloria Estefan</td>\n",
       "      <td>[adult contemporary, american, bolero, conga, ...</td>\n",
       "    </tr>\n",
       "    <tr>\n",
       "      <th>3</th>\n",
       "      <td>'N Sync Featuring Nelly</td>\n",
       "      <td>[boy band, dance-pop, pop, pop and chart, pop ...</td>\n",
       "    </tr>\n",
       "    <tr>\n",
       "      <th>4</th>\n",
       "      <td>'Til Tuesday</td>\n",
       "      <td>[alternative rock, new wave]</td>\n",
       "    </tr>\n",
       "  </tbody>\n",
       "</table>\n",
       "</div>"
      ],
      "text/plain": [
       "                     artist                                             genres\n",
       "0           \"Groove\" Holmes              [hard bop, jazz and blues, soul jazz]\n",
       "1       \"Weird Al\" Yankovic  [accordion, american, comedy, comedy rock, par...\n",
       "2  'N Sync & Gloria Estefan  [adult contemporary, american, bolero, conga, ...\n",
       "3   'N Sync Featuring Nelly  [boy band, dance-pop, pop, pop and chart, pop ...\n",
       "4              'Til Tuesday                       [alternative rock, new wave]"
      ]
     },
     "execution_count": 8,
     "metadata": {},
     "output_type": "execute_result"
    }
   ],
   "source": [
    "artist_genres_df.head()"
   ]
  },
  {
   "cell_type": "code",
   "execution_count": 9,
   "metadata": {},
   "outputs": [],
   "source": [
    "import ciso8601\n",
    "import time\n",
    "import re\n",
    "def separate_artists(df):\n",
    "    split_string = ' and |, | AND | & | featuring | FEATURING | x | X | feat | ft |,| with | feauring | feat. | / '\n",
    "    ret_list = []\n",
    "    res_check = set()\n",
    "    for index, colab in df.iterrows():\n",
    "        date = ciso8601.parse_datetime(colab['date'])\n",
    "        res = [time.mktime(date.timetuple())]\n",
    "        artists = re.split(split_string, colab['artist'], flags=re.IGNORECASE)\n",
    "        if tuple(artists) not in res_check:\n",
    "            res_check.add(tuple(artists))\n",
    "            res.append(artists)\n",
    "            ret_list.append(res)\n",
    "    return ret_list"
   ]
  },
  {
   "cell_type": "code",
   "execution_count": 10,
   "metadata": {},
   "outputs": [],
   "source": [
    "df = pd.read_csv(\"../data/billboard.csv\", index_col = 0)\n",
    "df = df[df.date >= \"2000-01-01\"]\n",
    "\n",
    "separated_artists = separate_artists(df)\n",
    "collabs = [y for [x,y] in separated_artists if len(y)>1]"
   ]
  },
  {
   "cell_type": "code",
   "execution_count": 11,
   "metadata": {},
   "outputs": [],
   "source": [
    "for i in collabs:\n",
    "    try :\n",
    "        i.remove('R. Kelly')\n",
    "    except ValueError:\n",
    "        pass"
   ]
  },
  {
   "cell_type": "code",
   "execution_count": 12,
   "metadata": {},
   "outputs": [],
   "source": [
    "unique_artists = list(np.unique([artist for l in collabs for artist in l]))"
   ]
  },
  {
   "cell_type": "code",
   "execution_count": 13,
   "metadata": {},
   "outputs": [
    {
     "ename": "KeyError",
     "evalue": "'R. Kelly'",
     "output_type": "error",
     "traceback": [
      "\u001b[1;31m---------------------------------------------------------------------------\u001b[0m",
      "\u001b[1;31mKeyError\u001b[0m                                  Traceback (most recent call last)",
      "\u001b[1;32m<ipython-input-13-4040297522c9>\u001b[0m in \u001b[0;36m<module>\u001b[1;34m\u001b[0m\n\u001b[0;32m      2\u001b[0m \u001b[0martists_by_id\u001b[0m \u001b[1;33m=\u001b[0m \u001b[0mdict\u001b[0m\u001b[1;33m(\u001b[0m\u001b[1;33m{\u001b[0m\u001b[0ma\u001b[0m\u001b[1;33m:\u001b[0m\u001b[0mb\u001b[0m \u001b[1;32mfor\u001b[0m \u001b[0ma\u001b[0m\u001b[1;33m,\u001b[0m\u001b[0mb\u001b[0m \u001b[1;32min\u001b[0m \u001b[0mzip\u001b[0m\u001b[1;33m(\u001b[0m\u001b[0munique_artists\u001b[0m\u001b[1;33m,\u001b[0m\u001b[0mlist\u001b[0m\u001b[1;33m(\u001b[0m\u001b[0mrange\u001b[0m\u001b[1;33m(\u001b[0m\u001b[1;36m0\u001b[0m\u001b[1;33m,\u001b[0m\u001b[0mlen\u001b[0m\u001b[1;33m(\u001b[0m\u001b[0munique_artists\u001b[0m\u001b[1;33m)\u001b[0m\u001b[1;33m)\u001b[0m\u001b[1;33m)\u001b[0m\u001b[1;33m)\u001b[0m\u001b[1;33m}\u001b[0m\u001b[1;33m)\u001b[0m\u001b[1;33m\u001b[0m\u001b[1;33m\u001b[0m\u001b[0m\n\u001b[0;32m      3\u001b[0m \u001b[0martists_by_id\u001b[0m \u001b[1;33m=\u001b[0m \u001b[1;33m{\u001b[0m\u001b[0mkey\u001b[0m\u001b[1;33m:\u001b[0m\u001b[1;33m[\u001b[0m\u001b[0mvalue\u001b[0m\u001b[1;33m,\u001b[0m\u001b[1;36m0.0\u001b[0m\u001b[1;33m]\u001b[0m \u001b[1;32mfor\u001b[0m \u001b[1;33m(\u001b[0m\u001b[0mkey\u001b[0m\u001b[1;33m,\u001b[0m\u001b[0mvalue\u001b[0m\u001b[1;33m)\u001b[0m \u001b[1;32min\u001b[0m \u001b[0martists_by_id\u001b[0m\u001b[1;33m.\u001b[0m\u001b[0mitems\u001b[0m\u001b[1;33m(\u001b[0m\u001b[1;33m)\u001b[0m\u001b[1;33m}\u001b[0m\u001b[1;33m\u001b[0m\u001b[1;33m\u001b[0m\u001b[0m\n\u001b[1;32m----> 4\u001b[1;33m \u001b[0martists_by_id\u001b[0m\u001b[1;33m.\u001b[0m\u001b[0mpop\u001b[0m\u001b[1;33m(\u001b[0m\u001b[1;34m\"R. Kelly\"\u001b[0m\u001b[1;33m)\u001b[0m\u001b[1;33m\u001b[0m\u001b[1;33m\u001b[0m\u001b[0m\n\u001b[0m",
      "\u001b[1;31mKeyError\u001b[0m: 'R. Kelly'"
     ]
    }
   ],
   "source": [
    "unique_artists;\n",
    "artists_by_id = dict({a:b for a,b in zip(unique_artists,list(range(0,len(unique_artists))))})\n",
    "artists_by_id = {key:[value,0.0] for (key,value) in artists_by_id.items()}\n",
    "artists_by_id.pop(\"R. Kelly\")"
   ]
  },
  {
   "cell_type": "code",
   "execution_count": 14,
   "metadata": {},
   "outputs": [],
   "source": [
    "for l in collabs:\n",
    "    for artist in l:\n",
    "        artists_by_id[artist][1] +=1"
   ]
  },
  {
   "cell_type": "code",
   "execution_count": 15,
   "metadata": {
    "scrolled": true
   },
   "outputs": [
    {
     "data": {
      "text/plain": [
       "{'Lil Wayne': [957, 109.0],\n",
       " 'Drake': [459, 108.0],\n",
       " 'Nicki Minaj': [1186, 81.0],\n",
       " 'Chris Brown': [315, 71.0],\n",
       " 'Kanye West': [831, 67.0],\n",
       " 'Future': [570, 57.0],\n",
       " 'Young Thug': [1760, 57.0],\n",
       " 'Lil Baby': [936, 53.0],\n",
       " 'Rick Ross': [1332, 48.0],\n",
       " 'Justin Bieber': [811, 47.0],\n",
       " 'Travis Scott': [1645, 47.0],\n",
       " 'Eminem': [495, 44.0],\n",
       " 'Big Sean': [176, 41.0],\n",
       " 'DJ Khaled': [379, 40.0],\n",
       " 'Ludacris': [993, 40.0],\n",
       " 'Meek Mill': [1074, 40.0],\n",
       " 'T-Pain': [1502, 40.0],\n",
       " '2 Chainz': [8, 36.0],\n",
       " 'Lil Uzi Vert': [956, 33.0],\n",
       " 'T.I.': [1505, 33.0],\n",
       " '21 Savage': [10, 32.0],\n",
       " 'DaBaby': [390, 31.0],\n",
       " 'Juice WRLD': [803, 31.0],\n",
       " 'Pitbull': [1258, 31.0],\n",
       " 'Akon': [51, 30.0],\n",
       " 'Lil Durk': [941, 30.0],\n",
       " 'Rihanna': [1335, 30.0],\n",
       " 'The Weeknd': [1595, 30.0],\n",
       " 'Ty Dolla $ign': [1664, 30.0],\n",
       " 'Cardi B': [265, 29.0],\n",
       " 'Tyga': [1665, 29.0],\n",
       " 'Ariana Grande': [99, 28.0],\n",
       " 'Wiz Khalifa': [1712, 28.0],\n",
       " 'Gunna': [618, 27.0],\n",
       " 'Kendrick Lamar': [858, 27.0],\n",
       " 'Snoop Dogg': [1445, 27.0],\n",
       " 'Usher': [1678, 27.0],\n",
       " 'Polo G': [1267, 26.0],\n",
       " 'Post Malone': [1272, 26.0],\n",
       " 'Quavo': [1288, 26.0],\n",
       " 'Gucci Mane': [615, 25.0],\n",
       " 'Jay-Z': [738, 25.0],\n",
       " 'Beyonce': [163, 24.0],\n",
       " 'Bad Bunny': [140, 23.0],\n",
       " 'Migos': [1095, 23.0],\n",
       " 'Nelly': [1175, 23.0],\n",
       " 'A Boogie Wit da Hoodie': [25, 22.0],\n",
       " 'Flo Rida': [543, 22.0],\n",
       " 'Pop Smoke': [1271, 22.0],\n",
       " 'David Guetta': [410, 21.0],\n",
       " 'J. Cole': [689, 21.0],\n",
       " 'Khalid': [873, 21.0],\n",
       " 'Lil Jon': [942, 21.0],\n",
       " '50 Cent': [18, 20.0],\n",
       " 'Jeremih': [747, 20.0],\n",
       " 'Taylor Swift': [1524, 20.0],\n",
       " 'Trippie Redd': [1654, 20.0],\n",
       " 'Offset': [1208, 19.0],\n",
       " 'Trey Songz': [1648, 19.0],\n",
       " 'Wale': [1695, 19.0],\n",
       " 'Young Jeezy': [1752, 19.0],\n",
       " 'Metro Boomin': [1083, 18.0],\n",
       " 'YG': [1729, 18.0],\n",
       " 'Calvin Harris': [259, 17.0],\n",
       " 'Fabolous': [519, 17.0],\n",
       " 'Fat Joe': [528, 17.0],\n",
       " 'Jennifer Lopez': [746, 17.0],\n",
       " 'Justin Timberlake': [814, 17.0],\n",
       " 'Kodak Black': [894, 17.0],\n",
       " 'Ne-Yo': [1172, 17.0],\n",
       " 'Roddy Ricch': [1345, 17.0],\n",
       " 'Timbaland': [1612, 17.0],\n",
       " 'B.o.B': [124, 16.0],\n",
       " 'Ed Sheeran': [479, 16.0],\n",
       " 'Enrique Iglesias': [498, 16.0],\n",
       " 'Marshmello': [1056, 15.0],\n",
       " 'Ozuna': [1223, 15.0],\n",
       " 'P. Diddy': [1228, 15.0],\n",
       " 'Christina Aguilera': [330, 14.0],\n",
       " 'French Montana': [562, 14.0],\n",
       " 'G-Eazy': [572, 14.0],\n",
       " 'J Balvin': [685, 14.0],\n",
       " 'Jamie Foxx': [721, 14.0],\n",
       " 'Lil Yachty': [959, 14.0],\n",
       " 'Mary J. Blige': [1061, 14.0],\n",
       " 'Nate Dogg': [1165, 14.0],\n",
       " 'Selena Gomez': [1403, 14.0],\n",
       " 'Adam Levine': [45, 13.0],\n",
       " 'Bow Wow': [216, 13.0],\n",
       " 'Chance The Rapper': [291, 13.0],\n",
       " 'Ciara': [336, 13.0],\n",
       " 'John Legend': [773, 13.0],\n",
       " 'Mariah Carey': [1046, 13.0],\n",
       " 'Plies': [1264, 13.0],\n",
       " 'The Creator': [1549, 13.0],\n",
       " 'Tyler': [1667, 13.0],\n",
       " 'YoungBoy Never Broke Again': [1764, 13.0],\n",
       " 'Zedd': [1780, 13.0],\n",
       " 'will.i.am': [1799, 13.0],\n",
       " '6ix9ine': [20, 12.0]}"
      ]
     },
     "execution_count": 15,
     "metadata": {},
     "output_type": "execute_result"
    }
   ],
   "source": [
    "top100=sorted(artists_by_id.items(), key=lambda x: x[1][1], reverse=True)[:100];\n",
    "top100=dict(top100);\n",
    "top100"
   ]
  },
  {
   "cell_type": "code",
   "execution_count": 16,
   "metadata": {},
   "outputs": [],
   "source": [
    "def determine_genre(subgenres) :\n",
    "    count_genres = dict(zip(aggregate_genres.keys(), np.zeros(len(aggregate_genres.keys()))))\n",
    "    find_one = False\n",
    "    for subgenre in subgenres :\n",
    "        for genre, subgrs in aggregate_genres.items():\n",
    "            if subgenre in subgrs:\n",
    "                find_one = True\n",
    "                count_genres[genre] +=1\n",
    "    if (find_one):\n",
    "        return sorted(count_genres.items(), key=lambda x: x[1])[-1][0]\n",
    "    else :\n",
    "        return np.NaN"
   ]
  },
  {
   "cell_type": "code",
   "execution_count": 17,
   "metadata": {},
   "outputs": [],
   "source": [
    "# Source : https://github.com/kevinschaich/billboard but completed with genres suggested by Spotify API\n",
    "aggregate_genres = {\n",
    "    \"rock\": [\"symphonic rock\", \"jazz-rock\", \"heartland rock\", \"rap rock\", \"garage rock\", \n",
    "           \"folk-rock\", \"roots rock\", \"adult alternative pop rock\", \"rock roll\", \"punk rock\", \n",
    "           \"arena rock\", \"pop-rock\", \"glam rock\", \"southern rock\", \"indie rock\", \"funk rock\", \n",
    "           \"country rock\", \"piano rock\", \"art rock\", \"rockabilly\", \"acoustic rock\", \"progressive rock\", \n",
    "           \"folk rock\", \"psychedelic rock\", \"rock & roll\", \"blues rock\", \"alternative rock\", \n",
    "           \"rock and roll\", \"soft rock\", \"rock and indie\", \"hard rock\", \"pop/rock\", \"pop rock\", \n",
    "           \"rock\", \"classic pop and rock\", \"psychedelic\", \"british psychedelia\", \"punk\", \"metal\", \"heavy metal\", \n",
    "             \"brutal death metal\", 'deep talent show'],\n",
    "\"alternative/indie\": [\"adult alternative pop rock\", \"alternative rock\", \"alternative metal\", \n",
    "                       \"alternative\", \"lo-fi indie\", \"indie\", \"indie folk\", \"indietronica\", \n",
    "                       \"indie pop\", \"indie rock\", \"rock and indie\"],\n",
    "\"electronic/dance\": ['big room', 'edm', \"dance and electronica\", \"electro house\", \"electronic\", \"electropop\", \n",
    "                      \"progressive house\", \"hip house\", \"house\", \"eurodance\", \"dancehall\", \"dance\", \"funk carioca\"],\n",
    "\"soul\": [\"psychedelic soul\", \"deep soul\", \"neo-soul\", \"neo soul\", \"southern soul\", \n",
    "          \"smooth soul\", \"blue-eyed soul\", \"soul and reggae\", \"soul\", \"funk\"],\n",
    "\"classical/soundtrack\": [\"classical\", \"orchestral\", \"film soundtrack\", \"composer\"],\n",
    "\"pop\": [\"country-pop\", \"latin pop\", \"classical pop\", \"pop-metal\", \"orchestral pop\", \n",
    "         \"instrumental pop\", \"indie pop\", \"sophisti-pop\", \"pop punk\", \"pop reggae\", \"noah cyrus\"\n",
    "         \"britpop\", \"traditional pop\", \"power pop\", \"sunshine pop\", \"baroque pop\", \"alternative r&b\",\n",
    "         \"synthpop\", \"art pop\", \"teen pop\", \"psychedelic pop\", \"folk pop\", \"country pop\", \"pop soul\",\n",
    "         \"pop and chart\", \"dance-pop\", \"pop\", \"top 40\", \"american idol\", 'breakeven', 'm2m', 'dance pop'],\n",
    "\"hip-hop/rap\": [\"conscious hip hop\", \"east coast hip hop\", \"hardcore hip hop\", 'oakland hip hop', 'pop rap'\n",
    "                 \"west coast hip hop\", \"hiphop\", \"southern hip hop\", \"hip-hop\", \n",
    "                 \"hip hop\", \"hip hop rnb and dance hall\", \"contemporary r b\", \n",
    "                 \"gangsta rap\", \"rapper\", \"rap\", \"mumble rapper\", 'chicago rap', 'melodic rap', 'brooklyn drill', 'drill',\n",
    "               'baton rouge rap', 'trap', 'southern hip hop', 'miami hip hop', 'dirty south rap'],\n",
    "\"rnb\": [\"rnb\", \"rhythm & blues\",\"r&b\", \"blues\", \"contemporary rnb\", \n",
    "                 \"contemporary r&b\", \"rhythm and blues\"],\n",
    "\"disco\": [\"disco\"],\n",
    "\"swing\":  [\"swing\"],\n",
    "\"folk\": [\"contemporary folk\", \"folk\", \"bachata\", \"romanian\"],\n",
    "\"country\": [\"country rock\", \"country-pop\", \"country pop\", \"contemporary country\", \"country\"],\n",
    "\"jazz\": [\"vocal jazz\", \"jazz\", \"jazz-rock\"],\n",
    "\"religious\": [\"christian\", \"christmas music\", \"gospel\"],\n",
    "\"blues\": [\"delta blues\", \"rock blues\", \"urban blues\", \"electric blues\",\n",
    "           \"acoustic blues\", \"soul blues\", \"country blues\", \"jump blues\", \n",
    "           \"classic rock\", \"blues rock\", \"jazz and blues\", \"piano blues\", \n",
    "           \"british blues\", \"british rhythm & blues\", \"rhythm and blues\", \"blues\", \"blues rock\", \"rhythm & blues\"],\n",
    "\"reggae\": [\"reggae\", \"reggae fusion\", \"roots reggae\", \"reggaeton\", \"pop reggae\", \"soul and reggae\"]}"
   ]
  },
  {
   "cell_type": "code",
   "execution_count": 18,
   "metadata": {},
   "outputs": [],
   "source": [
    "for key, elem in top100.items():\n",
    "    elem.append(determine_genre(find_artist_genres(key)))"
   ]
  },
  {
   "cell_type": "code",
   "execution_count": 20,
   "metadata": {},
   "outputs": [],
   "source": [
    "import os \n",
    "\n",
    "f = open(\"nodes.json\", \"w\")\n",
    "\n",
    "f.write(\"[\")\n",
    "\n",
    "\n",
    "for artist, elems in top100.items():\n",
    "    f.write('{\"id\": ' + str(elems[0]) )\n",
    "    f.write(', \"label\": \"' + artist  )\n",
    "    f.write('\", \"group\": \"' + elems[2] + '\"},\\n')\n",
    "\n",
    "f.seek(f.tell() - 1, os.SEEK_SET)\n",
    "f.write('')\n",
    "f.seek(f.tell() - 1, os.SEEK_SET)\n",
    "f.write('')\n",
    "f.seek(f.tell() - 1, os.SEEK_SET)\n",
    "f.write('')\n",
    "\n",
    "f.write(\"]\")\n",
    "f.close()"
   ]
  },
  {
   "cell_type": "code",
   "execution_count": 21,
   "metadata": {},
   "outputs": [],
   "source": [
    "f = open(\"edges.json\", \"w\")\n",
    "\n",
    "f.write(\"[\")\n",
    "\n",
    "for pair in list(itertools.combinations(list(top100.keys()), 2)):\n",
    "    for collab in collabs:\n",
    "        if pair[0] in collab and pair[1] in collab:\n",
    "                f.write('{\"from\": ' + str(artists_by_id[pair[0]][0]) +', \"to\": ' + str(artists_by_id[pair[1]][0]) + '},\\n')\n",
    "                break\n",
    "        \n",
    "f.seek(f.tell() - 1, os.SEEK_SET)\n",
    "f.write('')\n",
    "f.seek(f.tell() - 1, os.SEEK_SET)\n",
    "f.write('')\n",
    "f.seek(f.tell() - 1, os.SEEK_SET)\n",
    "f.write('')\n",
    "\n",
    "f.write(\"]\")\n",
    "f.close()"
   ]
  },
  {
   "cell_type": "code",
   "execution_count": null,
   "metadata": {},
   "outputs": [],
   "source": [
    "most_collab_artists = [a for (a,b) in artists_by_id.items()]"
   ]
  },
  {
   "cell_type": "code",
   "execution_count": null,
   "metadata": {},
   "outputs": [],
   "source": [
    "most_collab_artists"
   ]
  },
  {
   "cell_type": "code",
   "execution_count": null,
   "metadata": {},
   "outputs": [],
   "source": [
    "list(itertools.combinations(collabs[6], 2))[0][0]"
   ]
  },
  {
   "cell_type": "code",
   "execution_count": null,
   "metadata": {
    "scrolled": false
   },
   "outputs": [],
   "source": [
    "artists_by_id['J. Cole']"
   ]
  },
  {
   "cell_type": "code",
   "execution_count": null,
   "metadata": {},
   "outputs": [],
   "source": [
    "included_artists = most_collab_artists.copy()\n",
    "included_artists = set(included_artists)\n",
    "\n",
    "for art in most_collab_artists:\n",
    "    for collab in collabs: \n",
    "        if art in collab:\n",
    "            included_artists = included_artists.union(set(collab))\n",
    "included_artists = list(included_artists)"
   ]
  },
  {
   "cell_type": "code",
   "execution_count": null,
   "metadata": {
    "scrolled": false
   },
   "outputs": [],
   "source": [
    "artists_by_id = dict({a:b for a,b in zip(included_artists,list(range(0,len(included_artists))))})\n",
    "artists_by_id "
   ]
  },
  {
   "cell_type": "code",
   "execution_count": null,
   "metadata": {},
   "outputs": [],
   "source": [
    "f = open(\"nodes.txt\", \"w\")\n",
    "\n",
    "f.write(\"var nodes = new vis.DataSet([\\n\")\n",
    "\n",
    "for artist, i in top100.items():\n",
    "    f.write(\"\\t{id: \"+str(i[0])+\", label: '\"+artist+\"'},\\n\") \n",
    "        \n",
    "f.write(\"]);\")\n",
    "f.close()"
   ]
  },
  {
   "cell_type": "code",
   "execution_count": null,
   "metadata": {},
   "outputs": [],
   "source": [
    "'Lil Wayne' in ['Lil Wayne', 'asdsd'] and 'Li' in ['Lil Wayne', 'asdsd']"
   ]
  },
  {
   "cell_type": "code",
   "execution_count": null,
   "metadata": {
    "scrolled": false
   },
   "outputs": [],
   "source": [
    " for pair in list(itertools.combinations(list(top100.keys()), 2)):\n",
    "        print(pair)"
   ]
  },
  {
   "cell_type": "code",
   "execution_count": null,
   "metadata": {},
   "outputs": [],
   "source": [
    "artists_by_id['Lil Wayne'][0]"
   ]
  },
  {
   "cell_type": "code",
   "execution_count": null,
   "metadata": {},
   "outputs": [],
   "source": [
    "f = open(\"edges.txt\", \"w\")\n",
    "\n",
    "\n",
    "f.write(\"var edges = new vis.DataSet([\\n\")\n",
    "\n",
    "for pair in list(itertools.combinations(list(top100.keys()), 2)):\n",
    "    for collab in collabs:\n",
    "        if pair[0] in collab and pair[1] in collab:\n",
    "                f.write(\"\\t{from: \"+str(artists_by_id[pair[0]][0])+', to: '+str(artists_by_id[pair[1]][0])+\"},\\n\")\n",
    "                break\n",
    "        \n",
    "f.write(\"]);\")\n",
    "f.close()"
   ]
  },
  {
   "cell_type": "code",
   "execution_count": null,
   "metadata": {},
   "outputs": [],
   "source": [
    "collabs[6]"
   ]
  },
  {
   "cell_type": "code",
   "execution_count": null,
   "metadata": {},
   "outputs": [],
   "source": [
    "f = open(\"hey.txt\", \"w\")\n",
    "\n",
    "f.write(\"series: [\")\n",
    "\n",
    "for genre in aggregate_genres.keys():\n",
    "    f.write(\"\\t{\\n\")\n",
    "    f.write(\"\\tname : \"+\"'\"+genre+\"'\"+\",\\n\")\n",
    "    f.write(\"\\tdata: [\")\n",
    "    \n",
    "    for subgenre in aggregate_genres[genre] : \n",
    "        f.write(\"{\\n\")\n",
    "        f.write(\"\\t\\tname: \"+\"'\"+subgenre+\"',\\n\")\n",
    "        f.write(\"\\t\\tvalue: \"+str(subgenres_popularity[subgenre])+\"\\n\")\n",
    "        f.write(\"\\t},\")\n",
    "    \n",
    "    f.write('\\t]\\n')   #  closing data \n",
    "    f.write(\"\\t},\\n\")\n",
    "\n",
    "f.write(\"]\")\n",
    "\n",
    "f.close()"
   ]
  },
  {
   "cell_type": "code",
   "execution_count": null,
   "metadata": {},
   "outputs": [],
   "source": [
    "# Source : https://github.com/kevinschaich/billboard \n",
    "aggregate_genres = {\n",
    "    \"rock\": [\"symphonic rock\", \"jazz-rock\", \"heartland rock\", \"rap rock\", \"garage rock\", \n",
    "           \"folk-rock\", \"roots rock\", \"adult alternative pop rock\", \"rock roll\", \"punk rock\", \n",
    "           \"arena rock\", \"pop-rock\", \"glam rock\", \"southern rock\", \"indie rock\", \"funk rock\", \n",
    "           \"country rock\", \"piano rock\", \"art rock\", \"rockabilly\", \"acoustic rock\", \"progressive rock\", \n",
    "           \"folk rock\", \"psychedelic rock\", \"rock & roll\", \"blues rock\", \"alternative rock\", \n",
    "           \"rock and roll\", \"soft rock\", \"rock and indie\", \"hard rock\", \"pop/rock\", \"pop rock\", \n",
    "           \"rock\", \"classic pop and rock\", \"psychedelic\", \"british psychedelia\", \"punk\", \"metal\", \"heavy metal\", \n",
    "             \"brutal death metal\"],\n",
    "\"alternative/indie\": [\"adult alternative pop rock\", \"alternative rock\", \"alternative metal\", \n",
    "                       \"alternative\", \"lo-fi indie\", \"indie\", \"indie folk\", \"indietronica\", \n",
    "                       \"indie pop\", \"indie rock\", \"rock and indie\"],\n",
    "\"electronic/dance\": [\"dance and electronica\", \"electro house\", \"electronic\", \"electropop\", \n",
    "                      \"progressive house\", \"hip house\", \"house\", \"eurodance\", \"dancehall\", \"dance\", \"trap\", \"funk carioca\"],\n",
    "\"soul\": [\"psychedelic soul\", \"deep soul\", \"neo-soul\", \"neo soul\", \"southern soul\", \n",
    "          \"smooth soul\", \"blue-eyed soul\", \"soul and reggae\", \"soul\", \"funk\"],\n",
    "\"classical/soundtrack\": [\"classical\", \"orchestral\", \"film soundtrack\", \"composer\"],\n",
    "\"pop\": [\"country-pop\", \"latin pop\", \"classical pop\", \"pop-metal\", \"orchestral pop\", \n",
    "         \"instrumental pop\", \"indie pop\", \"sophisti-pop\", \"pop punk\", \"pop reggae\", \"noah cyrus\"\n",
    "         \"britpop\", \"traditional pop\", \"power pop\", \"sunshine pop\", \"baroque pop\", \"alternative r&b\",\n",
    "         \"synthpop\", \"art pop\", \"teen pop\", \"psychedelic pop\", \"folk pop\", \"country pop\", \n",
    "         \"pop rap\", \"pop soul\", \"pop and chart\", \"dance-pop\", \"pop\", \"top 40\", \"american idol\", 'breakeven', 'm2m'],\n",
    "\"hip-hop/rnb\": [\"conscious hip hop\", \"east coast hip hop\", \"hardcore hip hop\", \n",
    "                 \"west coast hip hop\", \"hiphop\", \"southern hip hop\", \"hip-hop\", \n",
    "                 \"hip hop\", \"hip hop rnb and dance hall\", \"contemporary r b\", \n",
    "                 \"gangsta rap\", \"rapper\", \"rap\", \"rhythm and blues\", \"contemporary rnb\", \n",
    "                 \"contemporary r&b\", \"rnb\", \"rhythm & blues\",\"r&b\", \"blues\", \"mumble rapper\", 'michael jackson'],\n",
    "\"disco\": [\"disco\"],\n",
    "\"swing\":  [\"swing\"],\n",
    "\"folk\": [\"contemporary folk\", \"folk\", \"bachata\", \"latin\", \"romanian\"],\n",
    "\"country\": [\"country rock\", \"country-pop\", \"country pop\", \"contemporary country\", \"country\"],\n",
    "\"jazz\": [\"vocal jazz\", \"jazz\", \"jazz-rock\"],\n",
    "\"religious\": [\"christian\", \"christmas music\", \"gospel\"],\n",
    "\"blues\": [\"delta blues\", \"rock blues\", \"urban blues\", \"electric blues\",\n",
    "           \"acoustic blues\", \"soul blues\", \"country blues\", \"jump blues\", \n",
    "           \"classic rock\", \"blues rock\", \"jazz and blues\", \"piano blues\", \n",
    "           \"british blues\", \"british rhythm & blues\", \"rhythm and blues\", \"blues\", \"blues rock\", \"rhythm & blues\"],\n",
    "\"reggae\": [\"reggae fusion\", \"roots reggae\", \"reggaeton\", \"pop reggae\", \"reggae\", \"soul and reggae\"]}"
   ]
  },
  {
   "cell_type": "code",
   "execution_count": 39,
   "metadata": {},
   "outputs": [],
   "source": []
  },
  {
   "cell_type": "code",
   "execution_count": null,
   "metadata": {},
   "outputs": [],
   "source": [
    "all_subgenres=set([i for i in list(artist_genres_df.genres.values) for i in i])"
   ]
  },
  {
   "cell_type": "code",
   "execution_count": null,
   "metadata": {},
   "outputs": [],
   "source": [
    "[i for i in artist_genres_df.loc[artist_genres_df['artist'] == 'Lil Wayne'].genres for i in i]"
   ]
  },
  {
   "cell_type": "code",
   "execution_count": null,
   "metadata": {
    "scrolled": true
   },
   "outputs": [],
   "source": [
    "df = pd.read_csv(\"../data/billboard.csv\", index_col = 0)\n",
    "df = df[df.date >= \"2000-01-01\"]\n",
    "df"
   ]
  },
  {
   "cell_type": "code",
   "execution_count": null,
   "metadata": {},
   "outputs": [],
   "source": [
    "def determine_genre(subgenres) :\n",
    "    for subgenre in subgenres :\n",
    "        for genre, subgrs in aggregate_genres.items():\n",
    "            if subgenre in subgrs:\n",
    "                return genre\n",
    "    return np.NaN"
   ]
  },
  {
   "cell_type": "code",
   "execution_count": 37,
   "metadata": {},
   "outputs": [],
   "source": [
    "def determine_genre(subgenres) :\n",
    "    for subgenre in subgenres :\n",
    "        for genre, subgrs in aggregate_genres.items():\n",
    "            if subgenre in subgrs:\n",
    "                return genre\n",
    "    return np.NaN"
   ]
  },
  {
   "cell_type": "markdown",
   "metadata": {},
   "source": [
    "```\n",
    "def from_artist_to_subgenres(artist):\n",
    "    subgenres = artist_genres_df.loc[artist_genres_df['artist'] == artist].genres \n",
    "    if subgenres.empty:\n",
    "        return np.NaN\n",
    "    else :\n",
    "        return [i for i in subgenres for i in i]\n",
    "```"
   ]
  },
  {
   "cell_type": "code",
   "execution_count": null,
   "metadata": {
    "scrolled": false
   },
   "outputs": [],
   "source": [
    "df['subgenres'] = df['artist'].map(from_artist_to_subgenres)"
   ]
  },
  {
   "cell_type": "code",
   "execution_count": null,
   "metadata": {},
   "outputs": [],
   "source": [
    "df"
   ]
  },
  {
   "cell_type": "markdown",
   "metadata": {},
   "source": [
    "<h4>Weight formula applied to determine the subgenre popularity </h4>\n",
    "\n",
    "\n",
    "\n",
    "Popularity of each subgenre is initialized at 0.  \n",
    "$s$ is a linear score given accordingly to the rank of the subgenre occurrence.\n",
    "\n",
    "\n",
    "Then, for each occurrence of the genre in the charts we have :  \n",
    "$ \\widehat{popularity_{subgenre}} = popularity_{subgenre} +s$\n",
    "  \n",
    " where $s = 1 / rank $"
   ]
  },
  {
   "cell_type": "code",
   "execution_count": null,
   "metadata": {
    "scrolled": false
   },
   "outputs": [],
   "source": [
    "subgenres_popularity = dict({e:0 for e in [i for i in list(aggregate_genres.values()) for i in i]})"
   ]
  },
  {
   "cell_type": "code",
   "execution_count": null,
   "metadata": {},
   "outputs": [],
   "source": [
    "for index, row in df.loc[pd.notna(df['subgenres'])].iterrows():\n",
    "    for subg in row['subgenres']:\n",
    "        try : \n",
    "            subgenres_popularity[subg] += 1/row['rank']\n",
    "        except KeyError:\n",
    "            continue\n",
    "        \n",
    "    \n",
    "    # print(index, row['rank'], row['subgenres'])"
   ]
  },
  {
   "cell_type": "code",
   "execution_count": null,
   "metadata": {
    "scrolled": true
   },
   "outputs": [],
   "source": [
    "# subgenres_popularity = {key:value for (key,value) in subgenres_popularity.items() if value>0}"
   ]
  },
  {
   "cell_type": "code",
   "execution_count": null,
   "metadata": {
    "scrolled": true
   },
   "outputs": [],
   "source": [
    "f = open(\"hey.txt\", \"w\")\n",
    "\n",
    "f.write(\"series: [\")\n",
    "\n",
    "for genre in aggregate_genres.keys():\n",
    "    f.write(\"\\t{\\n\")\n",
    "    f.write(\"\\tname : \"+\"'\"+genre+\"'\"+\",\\n\")\n",
    "    f.write(\"\\tdata: [\")\n",
    "    \n",
    "    for subgenre in aggregate_genres[genre] : \n",
    "        f.write(\"{\\n\")\n",
    "        f.write(\"\\t\\tname: \"+\"'\"+subgenre+\"',\\n\")\n",
    "        f.write(\"\\t\\tvalue: \"+str(subgenres_popularity[subgenre])+\"\\n\")\n",
    "        f.write(\"\\t},\")\n",
    "    \n",
    "    f.write('\\t]\\n')   #  closing data \n",
    "    f.write(\"\\t},\\n\")\n",
    "\n",
    "f.write(\"]\")\n",
    "\n",
    "f.close()"
   ]
  },
  {
   "cell_type": "code",
   "execution_count": null,
   "metadata": {},
   "outputs": [],
   "source": [
    "separate_artists(artist_genres_df)"
   ]
  }
 ],
 "metadata": {
  "kernelspec": {
   "display_name": "Python 3",
   "language": "python",
   "name": "python3"
  },
  "language_info": {
   "codemirror_mode": {
    "name": "ipython",
    "version": 3
   },
   "file_extension": ".py",
   "mimetype": "text/x-python",
   "name": "python",
   "nbconvert_exporter": "python",
   "pygments_lexer": "ipython3",
   "version": "3.8.3"
  }
 },
 "nbformat": 4,
 "nbformat_minor": 4
}
