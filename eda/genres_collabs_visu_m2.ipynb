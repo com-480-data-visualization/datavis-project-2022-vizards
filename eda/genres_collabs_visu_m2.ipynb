{
 "cells": [
  {
   "cell_type": "code",
   "execution_count": null,
   "metadata": {},
   "outputs": [],
   "source": [
    "# Imports \n",
    "import pandas as pd\n",
    "import itertools \n",
    "import networkx as nx\n",
    "import matplotlib.pyplot as plt\n",
    "import pytrends\n",
    "import musicbrainzngs as m\n",
    "import numpy as np\n",
    "\n",
    "from pytrends.request import TrendReq\n",
    "from os import path\n",
    "from PIL import Image\n",
    "from wordcloud import WordCloud, STOPWORDS, ImageColorGenerator"
   ]
  },
  {
   "cell_type": "code",
   "execution_count": null,
   "metadata": {
    "scrolled": true
   },
   "outputs": [],
   "source": [
    "artist_genres_df = pd.read_json(\"../data/artist_genres.json\")"
   ]
  },
  {
   "cell_type": "code",
   "execution_count": null,
   "metadata": {
    "scrolled": true
   },
   "outputs": [],
   "source": [
    "artist_genres_df.head()"
   ]
  },
  {
   "cell_type": "code",
   "execution_count": null,
   "metadata": {},
   "outputs": [],
   "source": [
    "import ciso8601\n",
    "import time\n",
    "import re\n",
    "def separate_artists(df):\n",
    "    split_string = ' and |, | AND | & | featuring | FEATURING | x | X | feat | ft |,| with | feauring | feat. | / '\n",
    "    ret_list = []\n",
    "    res_check = set()\n",
    "    for index, colab in df.iterrows():\n",
    "        date = ciso8601.parse_datetime(colab['date'])\n",
    "        res = [time.mktime(date.timetuple())]\n",
    "        artists = re.split(split_string, colab['artist'], flags=re.IGNORECASE)\n",
    "        if tuple(artists) not in res_check:\n",
    "            res_check.add(tuple(artists))\n",
    "            res.append(artists)\n",
    "            ret_list.append(res)\n",
    "    return ret_list"
   ]
  },
  {
   "cell_type": "code",
   "execution_count": null,
   "metadata": {},
   "outputs": [],
   "source": [
    "collabs = [y for [x,y] in separate_artists(df) if len(y)>1]"
   ]
  },
  {
   "cell_type": "code",
   "execution_count": null,
   "metadata": {},
   "outputs": [],
   "source": [
    "unique_artists = list(np.unique([artist for l in collabs for artist in l]))"
   ]
  },
  {
   "cell_type": "code",
   "execution_count": null,
   "metadata": {
    "scrolled": true
   },
   "outputs": [],
   "source": [
    "artists_by_id = dict({a:b for a,b in zip(unique_artists,list(range(0,len(unique_artists))))})\n",
    "artists_by_id = {key:[value,0.0] for (key,value) in artists_by_id.items()}"
   ]
  },
  {
   "cell_type": "code",
   "execution_count": null,
   "metadata": {
    "scrolled": true
   },
   "outputs": [],
   "source": [
    "for l in collabs:\n",
    "    for artist in l:\n",
    "        artists_by_id[artist][1] +=1"
   ]
  },
  {
   "cell_type": "code",
   "execution_count": null,
   "metadata": {},
   "outputs": [],
   "source": [
    "top100=sorted(artists_by_id.items(), key=lambda x: x[1][1], reverse=True)[:100]"
   ]
  },
  {
   "cell_type": "code",
   "execution_count": null,
   "metadata": {},
   "outputs": [],
   "source": [
    "top100=dict(top100)"
   ]
  },
  {
   "cell_type": "code",
   "execution_count": null,
   "metadata": {},
   "outputs": [],
   "source": [
    "most_collab_artists = [a for (a,b) in artists_by_id.items()]"
   ]
  },
  {
   "cell_type": "code",
   "execution_count": null,
   "metadata": {},
   "outputs": [],
   "source": [
    "most_collab_artists"
   ]
  },
  {
   "cell_type": "code",
   "execution_count": null,
   "metadata": {},
   "outputs": [],
   "source": [
    "list(itertools.combinations(collabs[6], 2))[0][0]"
   ]
  },
  {
   "cell_type": "code",
   "execution_count": null,
   "metadata": {
    "scrolled": false
   },
   "outputs": [],
   "source": [
    "artists_by_id['J. Cole']"
   ]
  },
  {
   "cell_type": "code",
   "execution_count": null,
   "metadata": {},
   "outputs": [],
   "source": [
    "included_artists = most_collab_artists.copy()\n",
    "included_artists = set(included_artists)\n",
    "\n",
    "for art in most_collab_artists:\n",
    "    for collab in collabs: \n",
    "        if art in collab:\n",
    "            included_artists = included_artists.union(set(collab))\n",
    "included_artists = list(included_artists)"
   ]
  },
  {
   "cell_type": "code",
   "execution_count": null,
   "metadata": {
    "scrolled": false
   },
   "outputs": [],
   "source": [
    "artists_by_id = dict({a:b for a,b in zip(included_artists,list(range(0,len(included_artists))))})\n",
    "artists_by_id "
   ]
  },
  {
   "cell_type": "code",
   "execution_count": null,
   "metadata": {},
   "outputs": [],
   "source": [
    "f = open(\"nodes.txt\", \"w\")\n",
    "\n",
    "f.write(\"var nodes = new vis.DataSet([\\n\")\n",
    "\n",
    "for artist, i in top100.items():\n",
    "    f.write(\"\\t{id: \"+str(i[0])+\", label: '\"+artist+\"'},\\n\") \n",
    "        \n",
    "f.write(\"]);\")\n",
    "f.close()"
   ]
  },
  {
   "cell_type": "code",
   "execution_count": null,
   "metadata": {},
   "outputs": [],
   "source": [
    "'Lil Wayne' in ['Lil Wayne', 'asdsd'] and 'Li' in ['Lil Wayne', 'asdsd']"
   ]
  },
  {
   "cell_type": "code",
   "execution_count": null,
   "metadata": {
    "scrolled": false
   },
   "outputs": [],
   "source": [
    " for pair in list(itertools.combinations(list(top100.keys()), 2)):\n",
    "        print(pair)"
   ]
  },
  {
   "cell_type": "code",
   "execution_count": null,
   "metadata": {},
   "outputs": [],
   "source": [
    "artists_by_id['Lil Wayne'][0]"
   ]
  },
  {
   "cell_type": "code",
   "execution_count": null,
   "metadata": {},
   "outputs": [],
   "source": [
    "f = open(\"edges.txt\", \"w\")\n",
    "\n",
    "\n",
    "f.write(\"var edges = new vis.DataSet([\\n\")\n",
    "\n",
    "for pair in list(itertools.combinations(list(top100.keys()), 2)):\n",
    "    for collab in collabs:\n",
    "        if pair[0] in collab and pair[1] in collab:\n",
    "                f.write(\"\\t{from: \"+str(artists_by_id[pair[0]][0])+', to: '+str(artists_by_id[pair[1]][0])+\"},\\n\")\n",
    "                break\n",
    "        \n",
    "f.write(\"]);\")\n",
    "f.close()"
   ]
  },
  {
   "cell_type": "code",
   "execution_count": null,
   "metadata": {},
   "outputs": [],
   "source": [
    "collabs[6]"
   ]
  },
  {
   "cell_type": "code",
   "execution_count": null,
   "metadata": {},
   "outputs": [],
   "source": [
    "f = open(\"hey.txt\", \"w\")\n",
    "\n",
    "f.write(\"series: [\")\n",
    "\n",
    "for genre in aggregate_genres.keys():\n",
    "    f.write(\"\\t{\\n\")\n",
    "    f.write(\"\\tname : \"+\"'\"+genre+\"'\"+\",\\n\")\n",
    "    f.write(\"\\tdata: [\")\n",
    "    \n",
    "    for subgenre in aggregate_genres[genre] : \n",
    "        f.write(\"{\\n\")\n",
    "        f.write(\"\\t\\tname: \"+\"'\"+subgenre+\"',\\n\")\n",
    "        f.write(\"\\t\\tvalue: \"+str(subgenres_popularity[subgenre])+\"\\n\")\n",
    "        f.write(\"\\t},\")\n",
    "    \n",
    "    f.write('\\t]\\n')   #  closing data \n",
    "    f.write(\"\\t},\\n\")\n",
    "\n",
    "f.write(\"]\")\n",
    "\n",
    "f.close()"
   ]
  },
  {
   "cell_type": "code",
   "execution_count": null,
   "metadata": {},
   "outputs": [],
   "source": [
    "# Source : https://github.com/kevinschaich/billboard \n",
    "aggregate_genres = {\n",
    "    \"rock\": [\"symphonic rock\", \"jazz-rock\", \"heartland rock\", \"rap rock\", \"garage rock\", \n",
    "           \"folk-rock\", \"roots rock\", \"adult alternative pop rock\", \"rock roll\", \"punk rock\", \n",
    "           \"arena rock\", \"pop-rock\", \"glam rock\", \"southern rock\", \"indie rock\", \"funk rock\", \n",
    "           \"country rock\", \"piano rock\", \"art rock\", \"rockabilly\", \"acoustic rock\", \"progressive rock\", \n",
    "           \"folk rock\", \"psychedelic rock\", \"rock & roll\", \"blues rock\", \"alternative rock\", \n",
    "           \"rock and roll\", \"soft rock\", \"rock and indie\", \"hard rock\", \"pop/rock\", \"pop rock\", \n",
    "           \"rock\", \"classic pop and rock\", \"psychedelic\", \"british psychedelia\", \"punk\", \"metal\", \"heavy metal\", \n",
    "             \"brutal death metal\"],\n",
    "\"alternative/indie\": [\"adult alternative pop rock\", \"alternative rock\", \"alternative metal\", \n",
    "                       \"alternative\", \"lo-fi indie\", \"indie\", \"indie folk\", \"indietronica\", \n",
    "                       \"indie pop\", \"indie rock\", \"rock and indie\"],\n",
    "\"electronic/dance\": [\"dance and electronica\", \"electro house\", \"electronic\", \"electropop\", \n",
    "                      \"progressive house\", \"hip house\", \"house\", \"eurodance\", \"dancehall\", \"dance\", \"trap\", \"funk carioca\"],\n",
    "\"soul\": [\"psychedelic soul\", \"deep soul\", \"neo-soul\", \"neo soul\", \"southern soul\", \n",
    "          \"smooth soul\", \"blue-eyed soul\", \"soul and reggae\", \"soul\", \"funk\"],\n",
    "\"classical/soundtrack\": [\"classical\", \"orchestral\", \"film soundtrack\", \"composer\"],\n",
    "\"pop\": [\"country-pop\", \"latin pop\", \"classical pop\", \"pop-metal\", \"orchestral pop\", \n",
    "         \"instrumental pop\", \"indie pop\", \"sophisti-pop\", \"pop punk\", \"pop reggae\", \"noah cyrus\"\n",
    "         \"britpop\", \"traditional pop\", \"power pop\", \"sunshine pop\", \"baroque pop\", \"alternative r&b\",\n",
    "         \"synthpop\", \"art pop\", \"teen pop\", \"psychedelic pop\", \"folk pop\", \"country pop\", \n",
    "         \"pop rap\", \"pop soul\", \"pop and chart\", \"dance-pop\", \"pop\", \"top 40\", \"american idol\", 'breakeven', 'm2m'],\n",
    "\"hip-hop/rnb\": [\"conscious hip hop\", \"east coast hip hop\", \"hardcore hip hop\", \n",
    "                 \"west coast hip hop\", \"hiphop\", \"southern hip hop\", \"hip-hop\", \n",
    "                 \"hip hop\", \"hip hop rnb and dance hall\", \"contemporary r b\", \n",
    "                 \"gangsta rap\", \"rapper\", \"rap\", \"rhythm and blues\", \"contemporary rnb\", \n",
    "                 \"contemporary r&b\", \"rnb\", \"rhythm & blues\",\"r&b\", \"blues\", \"mumble rapper\", 'michael jackson'],\n",
    "\"disco\": [\"disco\"],\n",
    "\"swing\":  [\"swing\"],\n",
    "\"folk\": [\"contemporary folk\", \"folk\", \"bachata\", \"latin\", \"romanian\"],\n",
    "\"country\": [\"country rock\", \"country-pop\", \"country pop\", \"contemporary country\", \"country\"],\n",
    "\"jazz\": [\"vocal jazz\", \"jazz\", \"jazz-rock\"],\n",
    "\"religious\": [\"christian\", \"christmas music\", \"gospel\"],\n",
    "\"blues\": [\"delta blues\", \"rock blues\", \"urban blues\", \"electric blues\",\n",
    "           \"acoustic blues\", \"soul blues\", \"country blues\", \"jump blues\", \n",
    "           \"classic rock\", \"blues rock\", \"jazz and blues\", \"piano blues\", \n",
    "           \"british blues\", \"british rhythm & blues\", \"rhythm and blues\", \"blues\", \"blues rock\", \"rhythm & blues\"],\n",
    "\"reggae\": [\"reggae fusion\", \"roots reggae\", \"reggaeton\", \"pop reggae\", \"reggae\", \"soul and reggae\"]}"
   ]
  },
  {
   "cell_type": "code",
   "execution_count": null,
   "metadata": {},
   "outputs": [],
   "source": [
    "all_subgenres=set([i for i in list(artist_genres_df.genres.values) for i in i])"
   ]
  },
  {
   "cell_type": "code",
   "execution_count": null,
   "metadata": {},
   "outputs": [],
   "source": [
    "[i for i in artist_genres_df.loc[artist_genres_df['artist'] == 'Lil Wayne'].genres for i in i]"
   ]
  },
  {
   "cell_type": "code",
   "execution_count": null,
   "metadata": {
    "scrolled": true
   },
   "outputs": [],
   "source": [
    "df = pd.read_csv(\"../data/billboard.csv\", index_col = 0)\n",
    "df = df[df.date >= \"2000-01-01\"]\n",
    "df"
   ]
  },
  {
   "cell_type": "code",
   "execution_count": null,
   "metadata": {},
   "outputs": [],
   "source": [
    "def determine_genre(subgenres) :\n",
    "    for subgenre in subgenres :\n",
    "        for genre, subgrs in aggregate_genres.items():\n",
    "            if subgenre in subgrs:\n",
    "                return genre\n",
    "    return np.NaN"
   ]
  },
  {
   "cell_type": "markdown",
   "metadata": {},
   "source": [
    "```\n",
    "def from_artist_to_subgenres(artist):\n",
    "    subgenres = artist_genres_df.loc[artist_genres_df['artist'] == artist].genres \n",
    "    if subgenres.empty:\n",
    "        return np.NaN\n",
    "    else :\n",
    "        return [i for i in subgenres for i in i]\n",
    "```"
   ]
  },
  {
   "cell_type": "code",
   "execution_count": null,
   "metadata": {
    "scrolled": false
   },
   "outputs": [],
   "source": [
    "df['subgenres'] = df['artist'].map(from_artist_to_subgenres)"
   ]
  },
  {
   "cell_type": "code",
   "execution_count": null,
   "metadata": {},
   "outputs": [],
   "source": [
    "df"
   ]
  },
  {
   "cell_type": "markdown",
   "metadata": {},
   "source": [
    "<h4>Weight formula applied to determine the subgenre popularity </h4>\n",
    "\n",
    "\n",
    "\n",
    "Popularity of each subgenre is initialized at 0.  \n",
    "$s$ is a linear score given accordingly to the rank of the subgenre occurrence.\n",
    "\n",
    "\n",
    "Then, for each occurrence of the genre in the charts we have :  \n",
    "$ \\widehat{popularity_{subgenre}} = popularity_{subgenre} +s$\n",
    "  \n",
    " where $s = 1 / rank $"
   ]
  },
  {
   "cell_type": "code",
   "execution_count": null,
   "metadata": {
    "scrolled": false
   },
   "outputs": [],
   "source": [
    "subgenres_popularity = dict({e:0 for e in [i for i in list(aggregate_genres.values()) for i in i]})"
   ]
  },
  {
   "cell_type": "code",
   "execution_count": null,
   "metadata": {},
   "outputs": [],
   "source": [
    "for index, row in df.loc[pd.notna(df['subgenres'])].iterrows():\n",
    "    for subg in row['subgenres']:\n",
    "        try : \n",
    "            subgenres_popularity[subg] += 1/row['rank']\n",
    "        except KeyError:\n",
    "            continue\n",
    "        \n",
    "    \n",
    "    # print(index, row['rank'], row['subgenres'])"
   ]
  },
  {
   "cell_type": "code",
   "execution_count": null,
   "metadata": {
    "scrolled": true
   },
   "outputs": [],
   "source": [
    "# subgenres_popularity = {key:value for (key,value) in subgenres_popularity.items() if value>0}"
   ]
  },
  {
   "cell_type": "code",
   "execution_count": null,
   "metadata": {
    "scrolled": true
   },
   "outputs": [],
   "source": [
    "f = open(\"hey.txt\", \"w\")\n",
    "\n",
    "f.write(\"series: [\")\n",
    "\n",
    "for genre in aggregate_genres.keys():\n",
    "    f.write(\"\\t{\\n\")\n",
    "    f.write(\"\\tname : \"+\"'\"+genre+\"'\"+\",\\n\")\n",
    "    f.write(\"\\tdata: [\")\n",
    "    \n",
    "    for subgenre in aggregate_genres[genre] : \n",
    "        f.write(\"{\\n\")\n",
    "        f.write(\"\\t\\tname: \"+\"'\"+subgenre+\"',\\n\")\n",
    "        f.write(\"\\t\\tvalue: \"+str(subgenres_popularity[subgenre])+\"\\n\")\n",
    "        f.write(\"\\t},\")\n",
    "    \n",
    "    f.write('\\t]\\n')   #  closing data \n",
    "    f.write(\"\\t},\\n\")\n",
    "\n",
    "f.write(\"]\")\n",
    "\n",
    "f.close()"
   ]
  },
  {
   "cell_type": "code",
   "execution_count": null,
   "metadata": {},
   "outputs": [],
   "source": [
    "separate_artists(artist_genres_df)"
   ]
  }
 ],
 "metadata": {
  "kernelspec": {
   "display_name": "Python 3",
   "language": "python",
   "name": "python3"
  },
  "language_info": {
   "codemirror_mode": {
    "name": "ipython",
    "version": 3
   },
   "file_extension": ".py",
   "mimetype": "text/x-python",
   "name": "python",
   "nbconvert_exporter": "python",
   "pygments_lexer": "ipython3",
   "version": "3.8.3"
  }
 },
 "nbformat": 4,
 "nbformat_minor": 4
}
