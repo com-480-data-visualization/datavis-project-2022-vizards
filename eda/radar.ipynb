{
 "cells": [
  {
   "cell_type": "code",
   "execution_count": 1,
   "metadata": {},
   "outputs": [],
   "source": [
    "import pandas as pd"
   ]
  },
  {
   "cell_type": "code",
   "execution_count": 53,
   "metadata": {},
   "outputs": [],
   "source": [
    "df = pd.read_csv(\"dataset-of-00s.csv\")\n",
    "dff = pd.read_csv(\"dataset-of-10s.csv\")"
   ]
  },
  {
   "cell_type": "code",
   "execution_count": 56,
   "metadata": {},
   "outputs": [],
   "source": [
    "df = df.append(dff)"
   ]
  },
  {
   "cell_type": "code",
   "execution_count": 76,
   "metadata": {},
   "outputs": [],
   "source": [
    "kanye = df[df['artist'].str.contains(\"Kanye\")]\n",
    "taylor = df[df['artist'].str.contains(\"Taylor Swift\")]\n",
    "linkin = df[df['artist'].str.contains(\"Blink-182\")]"
   ]
  },
  {
   "cell_type": "code",
   "execution_count": 77,
   "metadata": {},
   "outputs": [],
   "source": [
    "l = [kanye, taylor, linkin]"
   ]
  },
  {
   "cell_type": "code",
   "execution_count": 78,
   "metadata": {},
   "outputs": [],
   "source": [
    "out = {\n",
    "    \"artist\": [],\n",
    "    \"danceability\": [],\n",
    "    \"energy\": [],\n",
    "    \"speechiness\": [],\n",
    "    \"acousticness\": []\n",
    "}\n",
    "ls = [\"Kanye West\", \"Taylor Swift\", \"Blink-182\"]\n",
    "for n, i in enumerate(l):\n",
    "    out[\"artist\"].append(ls[n])\n",
    "    out[\"danceability\"].append(i.danceability.mean())\n",
    "    out[\"energy\"].append(i.energy.mean())\n",
    "    out[\"speechiness\"].append(i.speechiness.mean())\n",
    "    out[\"acousticness\"].append(i.acousticness.mean())"
   ]
  },
  {
   "cell_type": "code",
   "execution_count": 79,
   "metadata": {},
   "outputs": [],
   "source": [
    "out_df = pd.DataFrame.from_dict(out)"
   ]
  },
  {
   "cell_type": "code",
   "execution_count": 80,
   "metadata": {},
   "outputs": [
    {
     "data": {
      "text/html": [
       "<div>\n",
       "<style scoped>\n",
       "    .dataframe tbody tr th:only-of-type {\n",
       "        vertical-align: middle;\n",
       "    }\n",
       "\n",
       "    .dataframe tbody tr th {\n",
       "        vertical-align: top;\n",
       "    }\n",
       "\n",
       "    .dataframe thead th {\n",
       "        text-align: right;\n",
       "    }\n",
       "</style>\n",
       "<table border=\"1\" class=\"dataframe\">\n",
       "  <thead>\n",
       "    <tr style=\"text-align: right;\">\n",
       "      <th></th>\n",
       "      <th>artist</th>\n",
       "      <th>danceability</th>\n",
       "      <th>energy</th>\n",
       "      <th>speechiness</th>\n",
       "      <th>acousticness</th>\n",
       "    </tr>\n",
       "  </thead>\n",
       "  <tbody>\n",
       "    <tr>\n",
       "      <th>0</th>\n",
       "      <td>Kanye West</td>\n",
       "      <td>0.649579</td>\n",
       "      <td>0.693947</td>\n",
       "      <td>0.191947</td>\n",
       "      <td>0.165192</td>\n",
       "    </tr>\n",
       "    <tr>\n",
       "      <th>1</th>\n",
       "      <td>Taylor Swift</td>\n",
       "      <td>0.600468</td>\n",
       "      <td>0.652500</td>\n",
       "      <td>0.062721</td>\n",
       "      <td>0.152218</td>\n",
       "    </tr>\n",
       "    <tr>\n",
       "      <th>2</th>\n",
       "      <td>Blink-182</td>\n",
       "      <td>0.502667</td>\n",
       "      <td>0.879000</td>\n",
       "      <td>0.056533</td>\n",
       "      <td>0.003885</td>\n",
       "    </tr>\n",
       "  </tbody>\n",
       "</table>\n",
       "</div>"
      ],
      "text/plain": [
       "         artist  danceability    energy  speechiness  acousticness\n",
       "0    Kanye West      0.649579  0.693947     0.191947      0.165192\n",
       "1  Taylor Swift      0.600468  0.652500     0.062721      0.152218\n",
       "2     Blink-182      0.502667  0.879000     0.056533      0.003885"
      ]
     },
     "execution_count": 80,
     "metadata": {},
     "output_type": "execute_result"
    }
   ],
   "source": [
    "out_df"
   ]
  },
  {
   "cell_type": "code",
   "execution_count": 26,
   "metadata": {},
   "outputs": [],
   "source": [
    "out_df.to_csv(\"radar00.csv\", index=False)"
   ]
  },
  {
   "cell_type": "code",
   "execution_count": 81,
   "metadata": {},
   "outputs": [
    {
     "name": "stdout",
     "output_type": "stream",
     "text": [
      "[\"Kanye West\", \"0.649578947368421\", \"0.6939473684210526\", \"0.19194736842105262\", \"0.16519194736842105\"],\n",
      "[\"Taylor Swift\", \"0.600467741935484\", \"0.6524999999999999\", \"0.06272096774193547\", \"0.1522176935483871\"],\n",
      "[\"Blink-182\", \"0.5026666666666667\", \"0.879\", \"0.05653333333333333\", \"0.0038846666666666665\"],\n"
     ]
    }
   ],
   "source": [
    "for _,d in out_df.iterrows():\n",
    "    print(f'[\"{d.artist}\", \"{d.danceability}\", \"{d.energy}\", \"{d.speechiness}\", \"{d.acousticness}\"],')"
   ]
  }
 ],
 "metadata": {
  "interpreter": {
   "hash": "b0fa6594d8f4cbf19f97940f81e996739fb7646882a419484c72d19e05852a7e"
  },
  "kernelspec": {
   "display_name": "Python 3.9.10 64-bit",
   "language": "python",
   "name": "python3"
  },
  "language_info": {
   "codemirror_mode": {
    "name": "ipython",
    "version": 3
   },
   "file_extension": ".py",
   "mimetype": "text/x-python",
   "name": "python",
   "nbconvert_exporter": "python",
   "pygments_lexer": "ipython3",
   "version": "3.9.10"
  },
  "orig_nbformat": 4
 },
 "nbformat": 4,
 "nbformat_minor": 2
}
