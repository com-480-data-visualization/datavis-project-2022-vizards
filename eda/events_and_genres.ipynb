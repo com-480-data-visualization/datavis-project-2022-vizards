{
 "cells": [
  {
   "cell_type": "code",
   "execution_count": 1,
   "metadata": {},
   "outputs": [],
   "source": [
    "# Imports \n",
    "import pandas\n",
    "import itertools\n",
    "import networkx as nx\n",
    "import matplotlib.pyplot as plt\n",
    "import pytrends\n",
    "from pytrends.request import TrendReq\n",
    "from os import path\n",
    "from PIL import Image\n",
    "from wordcloud import WordCloud, STOPWORDS, ImageColorGenerator\n",
    "import matplotlib.pyplot as plt\n",
    "import musicbrainzngs as m"
   ]
  },
  {
   "cell_type": "markdown",
   "metadata": {},
   "source": [
    "# Events "
   ]
  },
  {
   "cell_type": "code",
   "execution_count": 2,
   "metadata": {
    "scrolled": true
   },
   "outputs": [
    {
     "data": {
      "text/html": [
       "<div>\n",
       "<style scoped>\n",
       "    .dataframe tbody tr th:only-of-type {\n",
       "        vertical-align: middle;\n",
       "    }\n",
       "\n",
       "    .dataframe tbody tr th {\n",
       "        vertical-align: top;\n",
       "    }\n",
       "\n",
       "    .dataframe thead th {\n",
       "        text-align: right;\n",
       "    }\n",
       "</style>\n",
       "<table border=\"1\" class=\"dataframe\">\n",
       "  <thead>\n",
       "    <tr style=\"text-align: right;\">\n",
       "      <th></th>\n",
       "      <th>event</th>\n",
       "      <th>year</th>\n",
       "      <th>keywords</th>\n",
       "    </tr>\n",
       "  </thead>\n",
       "  <tbody>\n",
       "    <tr>\n",
       "      <th>0</th>\n",
       "      <td>9/11 September attack</td>\n",
       "      <td>2001</td>\n",
       "      <td>[attack, terror, weapons, mass destruction]</td>\n",
       "    </tr>\n",
       "    <tr>\n",
       "      <th>1</th>\n",
       "      <td>Iraq War</td>\n",
       "      <td>2003</td>\n",
       "      <td>[iraq, war, collateral, patriot, surgical, dea...</td>\n",
       "    </tr>\n",
       "    <tr>\n",
       "      <th>2</th>\n",
       "      <td>Facebook</td>\n",
       "      <td>2004</td>\n",
       "      <td>[facebook, profile, like, friend]</td>\n",
       "    </tr>\n",
       "    <tr>\n",
       "      <th>3</th>\n",
       "      <td>Indian Ocean earthquake and tsunami</td>\n",
       "      <td>2004</td>\n",
       "      <td>[tsunami, earthquake, cataclysm, deaths]</td>\n",
       "    </tr>\n",
       "    <tr>\n",
       "      <th>4</th>\n",
       "      <td>Twitter</td>\n",
       "      <td>2006</td>\n",
       "      <td>[twitter, tweet, retweet]</td>\n",
       "    </tr>\n",
       "    <tr>\n",
       "      <th>5</th>\n",
       "      <td>Apple launches iPhone</td>\n",
       "      <td>2007</td>\n",
       "      <td>[apple, iphone, selfie]</td>\n",
       "    </tr>\n",
       "    <tr>\n",
       "      <th>6</th>\n",
       "      <td>Great Recession</td>\n",
       "      <td>2008</td>\n",
       "      <td>[crisis, debt, economic, financial, money, ban...</td>\n",
       "    </tr>\n",
       "    <tr>\n",
       "      <th>7</th>\n",
       "      <td>Arab Spring</td>\n",
       "      <td>2010</td>\n",
       "      <td>[revolution, arab, egypt, tunisia, libya, prot...</td>\n",
       "    </tr>\n",
       "    <tr>\n",
       "      <th>8</th>\n",
       "      <td>Ebola</td>\n",
       "      <td>2013</td>\n",
       "      <td>[ebola, virus, malaria]</td>\n",
       "    </tr>\n",
       "    <tr>\n",
       "      <th>9</th>\n",
       "      <td>Crimea is annexed by Russia</td>\n",
       "      <td>2014</td>\n",
       "      <td>[crimea, russia, ukraine, autonomous]</td>\n",
       "    </tr>\n",
       "    <tr>\n",
       "      <th>10</th>\n",
       "      <td>Legalization of same-sex marriage</td>\n",
       "      <td>2015</td>\n",
       "      <td>[legal, lgbt, lesbian, gay]</td>\n",
       "    </tr>\n",
       "    <tr>\n",
       "      <th>11</th>\n",
       "      <td>Paris Agreement on climate change</td>\n",
       "      <td>2015</td>\n",
       "      <td>[paris, climate, global warming, earth]</td>\n",
       "    </tr>\n",
       "    <tr>\n",
       "      <th>12</th>\n",
       "      <td>UK votes Brexit</td>\n",
       "      <td>2015</td>\n",
       "      <td>[brexit, uk, david cameron, united kingdom, eu...</td>\n",
       "    </tr>\n",
       "    <tr>\n",
       "      <th>13</th>\n",
       "      <td>Covid-19 Pandemic</td>\n",
       "      <td>2015</td>\n",
       "      <td>[pandemic, covid-19, virus, vaccine, coronavir...</td>\n",
       "    </tr>\n",
       "    <tr>\n",
       "      <th>14</th>\n",
       "      <td>Invasion of Ukraine by Russia</td>\n",
       "      <td>2022</td>\n",
       "      <td>[ukraine, russia, nuclear, deaths, donetsk, mi...</td>\n",
       "    </tr>\n",
       "  </tbody>\n",
       "</table>\n",
       "</div>"
      ],
      "text/plain": [
       "                                  event  year  \\\n",
       "0                 9/11 September attack  2001   \n",
       "1                              Iraq War  2003   \n",
       "2                              Facebook  2004   \n",
       "3   Indian Ocean earthquake and tsunami  2004   \n",
       "4                               Twitter  2006   \n",
       "5                 Apple launches iPhone  2007   \n",
       "6                       Great Recession  2008   \n",
       "7                           Arab Spring  2010   \n",
       "8                                 Ebola  2013   \n",
       "9           Crimea is annexed by Russia  2014   \n",
       "10    Legalization of same-sex marriage  2015   \n",
       "11    Paris Agreement on climate change  2015   \n",
       "12                      UK votes Brexit  2015   \n",
       "13                    Covid-19 Pandemic  2015   \n",
       "14        Invasion of Ukraine by Russia  2022   \n",
       "\n",
       "                                             keywords  \n",
       "0         [attack, terror, weapons, mass destruction]  \n",
       "1   [iraq, war, collateral, patriot, surgical, dea...  \n",
       "2                   [facebook, profile, like, friend]  \n",
       "3            [tsunami, earthquake, cataclysm, deaths]  \n",
       "4                           [twitter, tweet, retweet]  \n",
       "5                             [apple, iphone, selfie]  \n",
       "6   [crisis, debt, economic, financial, money, ban...  \n",
       "7   [revolution, arab, egypt, tunisia, libya, prot...  \n",
       "8                             [ebola, virus, malaria]  \n",
       "9               [crimea, russia, ukraine, autonomous]  \n",
       "10                        [legal, lgbt, lesbian, gay]  \n",
       "11            [paris, climate, global warming, earth]  \n",
       "12  [brexit, uk, david cameron, united kingdom, eu...  \n",
       "13  [pandemic, covid-19, virus, vaccine, coronavir...  \n",
       "14  [ukraine, russia, nuclear, deaths, donetsk, mi...  "
      ]
     },
     "execution_count": 2,
     "metadata": {},
     "output_type": "execute_result"
    }
   ],
   "source": [
    "events = pandas.read_json(\"../data/events.json\")\n",
    "events"
   ]
  },
  {
   "cell_type": "code",
   "execution_count": 3,
   "metadata": {
    "scrolled": false
   },
   "outputs": [],
   "source": [
    "gtrends = pandas.read_csv(\"../data/trends.csv\")"
   ]
  },
  {
   "cell_type": "code",
   "execution_count": 4,
   "metadata": {
    "scrolled": true
   },
   "outputs": [
    {
     "data": {
      "text/html": [
       "<div>\n",
       "<style scoped>\n",
       "    .dataframe tbody tr th:only-of-type {\n",
       "        vertical-align: middle;\n",
       "    }\n",
       "\n",
       "    .dataframe tbody tr th {\n",
       "        vertical-align: top;\n",
       "    }\n",
       "\n",
       "    .dataframe thead th {\n",
       "        text-align: right;\n",
       "    }\n",
       "</style>\n",
       "<table border=\"1\" class=\"dataframe\">\n",
       "  <thead>\n",
       "    <tr style=\"text-align: right;\">\n",
       "      <th></th>\n",
       "      <th>location</th>\n",
       "      <th>year</th>\n",
       "      <th>category</th>\n",
       "      <th>rank</th>\n",
       "      <th>query</th>\n",
       "    </tr>\n",
       "  </thead>\n",
       "  <tbody>\n",
       "    <tr>\n",
       "      <th>0</th>\n",
       "      <td>Global</td>\n",
       "      <td>2001</td>\n",
       "      <td>Consumer Brands</td>\n",
       "      <td>1</td>\n",
       "      <td>Nokia</td>\n",
       "    </tr>\n",
       "    <tr>\n",
       "      <th>1</th>\n",
       "      <td>Global</td>\n",
       "      <td>2001</td>\n",
       "      <td>Consumer Brands</td>\n",
       "      <td>2</td>\n",
       "      <td>Sony</td>\n",
       "    </tr>\n",
       "    <tr>\n",
       "      <th>2</th>\n",
       "      <td>Global</td>\n",
       "      <td>2001</td>\n",
       "      <td>Consumer Brands</td>\n",
       "      <td>3</td>\n",
       "      <td>BMW</td>\n",
       "    </tr>\n",
       "    <tr>\n",
       "      <th>3</th>\n",
       "      <td>Global</td>\n",
       "      <td>2001</td>\n",
       "      <td>Consumer Brands</td>\n",
       "      <td>4</td>\n",
       "      <td>Palm</td>\n",
       "    </tr>\n",
       "    <tr>\n",
       "      <th>4</th>\n",
       "      <td>Global</td>\n",
       "      <td>2001</td>\n",
       "      <td>Consumer Brands</td>\n",
       "      <td>5</td>\n",
       "      <td>Adobe</td>\n",
       "    </tr>\n",
       "  </tbody>\n",
       "</table>\n",
       "</div>"
      ],
      "text/plain": [
       "  location  year         category  rank  query\n",
       "0   Global  2001  Consumer Brands     1  Nokia\n",
       "1   Global  2001  Consumer Brands     2   Sony\n",
       "2   Global  2001  Consumer Brands     3    BMW\n",
       "3   Global  2001  Consumer Brands     4   Palm\n",
       "4   Global  2001  Consumer Brands     5  Adobe"
      ]
     },
     "execution_count": 4,
     "metadata": {},
     "output_type": "execute_result"
    }
   ],
   "source": [
    "gtrends.head()"
   ]
  },
  {
   "cell_type": "code",
   "execution_count": 5,
   "metadata": {
    "scrolled": true
   },
   "outputs": [
    {
     "data": {
      "text/plain": [
       "Paul Walker                   84\n",
       "Donald Trump                  83\n",
       "Facebook                      62\n",
       "Robin Williams                61\n",
       "Whitney Houston               56\n",
       "                              ..\n",
       "설국열차                           1\n",
       "¿Cómo hacer un currículum?     1\n",
       "Corte electoral Uruguay        1\n",
       "ข่าวออฟฟี่ แม็กซิม             1\n",
       "Kris Humphries                 1\n",
       "Name: query, Length: 18431, dtype: int64"
      ]
     },
     "execution_count": 5,
     "metadata": {},
     "output_type": "execute_result"
    }
   ],
   "source": [
    "gtrends['query'].value_counts()"
   ]
  },
  {
   "cell_type": "code",
   "execution_count": 6,
   "metadata": {
    "scrolled": true
   },
   "outputs": [
    {
     "data": {
      "text/plain": [
       "array(['Global', 'France', 'Germany', 'United Kingdom', 'Australia',\n",
       "       'Canada', 'Italy', 'Netherlands', 'Spain', 'United States',\n",
       "       'Argentina', 'Austria', 'Belgium', 'Brazil', 'Chile', 'China',\n",
       "       'Colombia', 'Czechia', 'Denmark', 'Finland', 'Hong Kong', 'India',\n",
       "       'Malaysia', 'Mexico', 'New Zealand', 'Philippines', 'Poland',\n",
       "       'Russia', 'Singapore', 'South Africa', 'South Korea', 'Sweden',\n",
       "       'Switzerland', 'Taiwan', 'Thailand', 'United Arab Emirates',\n",
       "       'Costa Rica', 'Croatia', 'Dominican Republic', 'Ecuador',\n",
       "       'El Salvador', 'Guatemala', 'Honduras', 'Japan', 'Kenya',\n",
       "       'Nigeria', 'Panama', 'Peru', 'Egypt', 'Hungary', 'Ireland',\n",
       "       'Israel', 'Norway', 'Portugal', 'Romania', 'Saudi Arabia',\n",
       "       'Serbia', 'Slovakia', 'Turkey', 'Ukraine', 'Ghana', 'Indonesia',\n",
       "       'Senegal', 'Uganda', 'Vietnam', 'Bangladesh', 'Bulgaria',\n",
       "       'Estonia', 'Latvia', 'Lithuania', 'Pakistan', 'Puerto Rico',\n",
       "       'Slovenia', 'Uruguay', 'Venezuela', 'Greece', 'Belarus',\n",
       "       'Kazakhstan', 'Sri Lanka', 'Zimbabwe', 'Myanmar (Burma)', 'Kuwait',\n",
       "       'Sudan'], dtype=object)"
      ]
     },
     "execution_count": 6,
     "metadata": {},
     "output_type": "execute_result"
    }
   ],
   "source": [
    "gtrends['location'].unique()"
   ]
  },
  {
   "cell_type": "code",
   "execution_count": 7,
   "metadata": {
    "scrolled": false
   },
   "outputs": [
    {
     "data": {
      "text/html": [
       "<div>\n",
       "<style scoped>\n",
       "    .dataframe tbody tr th:only-of-type {\n",
       "        vertical-align: middle;\n",
       "    }\n",
       "\n",
       "    .dataframe tbody tr th {\n",
       "        vertical-align: top;\n",
       "    }\n",
       "\n",
       "    .dataframe thead th {\n",
       "        text-align: right;\n",
       "    }\n",
       "</style>\n",
       "<table border=\"1\" class=\"dataframe\">\n",
       "  <thead>\n",
       "    <tr style=\"text-align: right;\">\n",
       "      <th></th>\n",
       "      <th>location</th>\n",
       "      <th>year</th>\n",
       "      <th>category</th>\n",
       "      <th>rank</th>\n",
       "      <th>query</th>\n",
       "    </tr>\n",
       "  </thead>\n",
       "  <tbody>\n",
       "    <tr>\n",
       "      <th>23780</th>\n",
       "      <td>United States</td>\n",
       "      <td>2019</td>\n",
       "      <td>Searches</td>\n",
       "      <td>1</td>\n",
       "      <td>Disney Plus</td>\n",
       "    </tr>\n",
       "    <tr>\n",
       "      <th>23785</th>\n",
       "      <td>United States</td>\n",
       "      <td>2019</td>\n",
       "      <td>News</td>\n",
       "      <td>1</td>\n",
       "      <td>Hurricane Dorian</td>\n",
       "    </tr>\n",
       "    <tr>\n",
       "      <th>23790</th>\n",
       "      <td>United States</td>\n",
       "      <td>2019</td>\n",
       "      <td>People</td>\n",
       "      <td>1</td>\n",
       "      <td>Antonio Brown</td>\n",
       "    </tr>\n",
       "    <tr>\n",
       "      <th>23795</th>\n",
       "      <td>United States</td>\n",
       "      <td>2019</td>\n",
       "      <td>Actors</td>\n",
       "      <td>1</td>\n",
       "      <td>Jussie Smollett</td>\n",
       "    </tr>\n",
       "    <tr>\n",
       "      <th>23800</th>\n",
       "      <td>United States</td>\n",
       "      <td>2019</td>\n",
       "      <td>Athletes</td>\n",
       "      <td>1</td>\n",
       "      <td>Antonio Brown</td>\n",
       "    </tr>\n",
       "  </tbody>\n",
       "</table>\n",
       "</div>"
      ],
      "text/plain": [
       "            location  year  category  rank             query\n",
       "23780  United States  2019  Searches     1       Disney Plus\n",
       "23785  United States  2019      News     1  Hurricane Dorian\n",
       "23790  United States  2019    People     1     Antonio Brown\n",
       "23795  United States  2019    Actors     1   Jussie Smollett\n",
       "23800  United States  2019  Athletes     1     Antonio Brown"
      ]
     },
     "execution_count": 7,
     "metadata": {},
     "output_type": "execute_result"
    }
   ],
   "source": [
    "gtrends[(gtrends['rank']==1) & (gtrends['location']==\"United States\") & (gtrends['year']==2019)].iloc[:5]"
   ]
  },
  {
   "cell_type": "code",
   "execution_count": 8,
   "metadata": {},
   "outputs": [
    {
     "data": {
      "text/plain": [
       "['twitter', 'tweet', 'retweet']"
      ]
     },
     "execution_count": 8,
     "metadata": {},
     "output_type": "execute_result"
    }
   ],
   "source": [
    "events.keywords[4]"
   ]
  },
  {
   "cell_type": "code",
   "execution_count": 9,
   "metadata": {},
   "outputs": [],
   "source": [
    "twitter_kw = events.keywords[4]\n",
    "\n",
    "pytrends = TrendReq(hl='en-US', tz=360)\n",
    "pytrends.build_payload(twitter_kw, cat=0, timeframe='all')\n",
    "\n",
    "twitter_kw = pytrends.interest_over_time()\n",
    "del twitter_kw['isPartial']"
   ]
  },
  {
   "cell_type": "code",
   "execution_count": 10,
   "metadata": {},
   "outputs": [
    {
     "data": {
      "image/png": "[encoded data removed]",
      "text/plain": [
       "<Figure size 432x288 with 1 Axes>"
      ]
     },
     "metadata": {
      "needs_background": "light"
     },
     "output_type": "display_data"
    }
   ],
   "source": [
    "def plot_trends(event_df):\n",
    "    plot = plt.figure().add_subplot()\n",
    "    event_df.plot(ax=plot)\n",
    "    plt.xlabel('Year')\n",
    "    plt.ylabel('US Search Popularity')\n",
    "\n",
    "    return plot\n",
    "\n",
    "p1 = plot_trends(twitter_kw)\n",
    "p1=plt.legend()"
   ]
  },
  {
   "cell_type": "code",
   "execution_count": null,
   "metadata": {},
   "outputs": [],
   "source": [
    "wc = WordCloud(width=2000, height=1000,background_color=\"white\", repeat=False)\n",
    "text = \" \".join(w for w in gtrends['query'])\n",
    "wc.generate(text)\n",
    "plt.imshow(wc, interpolation='bilinear')\n",
    "plt.axis(\"off\")\n",
    "plt.figure(figsize=(40,25))\n",
    "plt.show()"
   ]
  },
  {
   "cell_type": "code",
   "execution_count": null,
   "metadata": {},
   "outputs": [],
   "source": [
    "gtrends.groupby('location', sort=True).size().sort_values(axis=0,ascending=False)"
   ]
  },
  {
   "cell_type": "markdown",
   "metadata": {},
   "source": [
    "We have the most data about the United States so we will focus on it in our project. "
   ]
  },
  {
   "cell_type": "markdown",
   "metadata": {},
   "source": [
    "# Genres"
   ]
  },
  {
   "cell_type": "markdown",
   "metadata": {},
   "source": [
    " ## Scraping"
   ]
  },
  {
   "cell_type": "code",
   "execution_count": null,
   "metadata": {},
   "outputs": [],
   "source": [
    "# Source : https://github.com/kevinschaich/billboard\n",
    "m.set_useragent(\"Wizards\", \"0.1\", \"fatih.mutlu@epfl.ch\")\n",
    "\n",
    "def get_tags(artist):\n",
    "    try :\n",
    "        artist_id = m.search_artists(artist)['artist-list'][0]['id']\n",
    "    except IndexError:\n",
    "        return None, False\n",
    "    \n",
    "    try : \n",
    "        tags = m.get_artist_by_id(artist_id, includes=[\"tags\"])['artist'][\"tag-list\"]\n",
    "    except (UnboundLocalError, KeyError) :\n",
    "        return None, False\n",
    "    return [tag['name'] for tag in tags], True"
   ]
  },
  {
   "cell_type": "code",
   "execution_count": null,
   "metadata": {},
   "outputs": [],
   "source": [
    "artist_genres = dict()\n",
    "not_found_artists = []\n",
    "\n",
    "# for i in range(0,len(unique_artists)):\n",
    "#    genres, success = get_tags(unique_artists[i])\n",
    "#    \n",
    "#    if i == 10:\n",
    "#        print(i)\n",
    "#    if i%100 == 0: \n",
    "#        print(i)\n",
    "        \n",
    "#    if success:\n",
    "#        artist_genres[unique_artists[i]]=genres\n",
    "#        #print(unique_artists[i])\n",
    "#    else : \n",
    "#        not_found_artists.append(unique_artists[i])\n",
    "        #print(unique_artists[i])\n",
    "    \n",
    "# Took ~6 hours to finish "
   ]
  },
  {
   "cell_type": "markdown",
   "metadata": {},
   "source": [
    "## EDA"
   ]
  },
  {
   "cell_type": "code",
   "execution_count": null,
   "metadata": {
    "scrolled": true
   },
   "outputs": [],
   "source": [
    "artist_genres_df = pandas.read_json(\"../data/artist_genres.json\")"
   ]
  },
  {
   "cell_type": "code",
   "execution_count": null,
   "metadata": {
    "scrolled": true
   },
   "outputs": [],
   "source": [
    "artist_genres_df.head()"
   ]
  },
  {
   "cell_type": "code",
   "execution_count": null,
   "metadata": {},
   "outputs": [],
   "source": [
    "list(artist_genres_df.genres.values)[0]"
   ]
  },
  {
   "cell_type": "code",
   "execution_count": null,
   "metadata": {},
   "outputs": [],
   "source": [
    "G = nx.Graph()\n",
    "\n",
    "genres_relations = list(artist_genres_df.genres.values)\n",
    "\n",
    "for i in range(0, 10):\n",
    "    G.add_nodes_from(genres_relations[i])\n",
    "    G.add_edges_from(itertools.combinations(genres_relations[i],2))\n",
    "    \n",
    "pos = nx.circular_layout(G)\n",
    "plt.figure(3,figsize=(12,12))\n",
    "y_off = 0.02\n",
    "\n",
    "nx.draw(G,pos, with_labels = True, node_color='#2ea28a', edge_color=\"#808080\")\n",
    "plt.show()"
   ]
  },
  {
   "cell_type": "markdown",
   "metadata": {},
   "source": [
    "There are many subgenres in the dataset that aren't useful for the purpose of this graph. We will later aggregate them so that this graph becomes readable. "
   ]
  }
 ],
 "metadata": {
  "kernelspec": {
   "display_name": "Python 3",
   "language": "python",
   "name": "python3"
  },
  "language_info": {
   "codemirror_mode": {
    "name": "ipython",
    "version": 3
   },
   "file_extension": ".py",
   "mimetype": "text/x-python",
   "name": "python",
   "nbconvert_exporter": "python",
   "pygments_lexer": "ipython3",
   "version": "3.8.3"
  }
 },
 "nbformat": 4,
 "nbformat_minor": 4
}
