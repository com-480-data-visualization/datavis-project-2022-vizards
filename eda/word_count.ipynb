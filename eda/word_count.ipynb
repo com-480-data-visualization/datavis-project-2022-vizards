{
 "cells": [
  {
   "cell_type": "code",
   "execution_count": 28,
   "metadata": {},
   "outputs": [],
   "source": [
    "import pandas as pd\n",
    "import collections"
   ]
  },
  {
   "cell_type": "code",
   "execution_count": 29,
   "metadata": {},
   "outputs": [],
   "source": [
    "df = pd.read_csv(\"final_lyrics.csv\")"
   ]
  },
  {
   "cell_type": "code",
   "execution_count": 30,
   "metadata": {},
   "outputs": [],
   "source": [
    "df = df.dropna()"
   ]
  },
  {
   "cell_type": "code",
   "execution_count": 31,
   "metadata": {},
   "outputs": [],
   "source": [
    "import requests\n",
    "stopwords_list = requests.get(\"https://gist.githubusercontent.com/rg089/35e00abf8941d72d419224cfd5b5925d/raw/12d899b70156fd0041fa9778d657330b024b959c/stopwords.txt\").content\n",
    "stopwords = set(stopwords_list.decode().splitlines()) "
   ]
  },
  {
   "cell_type": "code",
   "execution_count": 40,
   "metadata": {},
   "outputs": [],
   "source": [
    "stopwords.add(\"-\")\n",
    "stopwords.add(\"&\")\n",
    "stopwords.add(\".\")\n",
    "stopwords.add(\"- -\")\n",
    "stopwords.add(\"–\")\n",
    "stopwords.add(\"feat\")\n",
    "stopwords.add(\"(2018)\")"
   ]
  },
  {
   "cell_type": "code",
   "execution_count": 41,
   "metadata": {},
   "outputs": [],
   "source": [
    "data = {\n",
    "    \"year\": [],\n",
    "    \"word\": [],\n",
    "    \"value\": []\n",
    "}\n",
    "for y in range(2000, 2022):\n",
    "    year = df[(f\"{y}-01-01 \" <= df['date']) & ( df['date'] <= f\"{y}-12-31\")]\n",
    "    lyric = \"\"\n",
    "    for _, song in year.iterrows():\n",
    "        lyric = lyric + \" \" + song[\"lyrics\"]\n",
    "    col = collections.Counter(lyric.replace(\",\", \"\").replace(\".\", \"\").split())\n",
    "    i = 0\n",
    "    for n in col.most_common():\n",
    "        if n[0] not in stopwords and len(n[0]) > 2:\n",
    "            data[\"year\"].append(y)\n",
    "            data[\"word\"].append(n[0])\n",
    "            data[\"value\"].append(n[1])\n",
    "            i += 1\n",
    "        if i == 10:\n",
    "            break\n",
    "    "
   ]
  },
  {
   "cell_type": "code",
   "execution_count": 42,
   "metadata": {},
   "outputs": [],
   "source": [
    "data_df = pd.DataFrame.from_dict(data)"
   ]
  },
  {
   "cell_type": "code",
   "execution_count": 43,
   "metadata": {},
   "outputs": [],
   "source": [
    "data_df.to_csv(\"word_count.csv\", index=False)"
   ]
  }
 ],
 "metadata": {
  "interpreter": {
   "hash": "b0fa6594d8f4cbf19f97940f81e996739fb7646882a419484c72d19e05852a7e"
  },
  "kernelspec": {
   "display_name": "Python 3.9.10 64-bit",
   "language": "python",
   "name": "python3"
  },
  "language_info": {
   "codemirror_mode": {
    "name": "ipython",
    "version": 3
   },
   "file_extension": ".py",
   "mimetype": "text/x-python",
   "name": "python",
   "nbconvert_exporter": "python",
   "pygments_lexer": "ipython3",
   "version": "3.9.10"
  },
  "orig_nbformat": 4
 },
 "nbformat": 4,
 "nbformat_minor": 2
}
